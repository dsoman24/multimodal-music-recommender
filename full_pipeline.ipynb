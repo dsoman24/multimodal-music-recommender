{
 "cells": [
  {
   "cell_type": "markdown",
   "metadata": {},
   "source": [
    "# Multimodal Fusion Music Recommendation System\n",
    "\n",
    "The purpose of this notebook is to perform the full data extraction, preprocessing, loading, and model pipeline."
   ]
  },
  {
   "cell_type": "code",
   "execution_count": 1,
   "metadata": {},
   "outputs": [],
   "source": [
    "%load_ext autoreload\n",
    "%autoreload 2"
   ]
  },
  {
   "cell_type": "markdown",
   "metadata": {},
   "source": [
    "## Data Extraction"
   ]
  },
  {
   "cell_type": "code",
   "execution_count": null,
   "metadata": {},
   "outputs": [],
   "source": [
    "# Install the required packages\n",
    "%pip install -r requirements.txt"
   ]
  },
  {
   "cell_type": "code",
   "execution_count": 95,
   "metadata": {
    "vscode": {
     "languageId": "shellscript"
    }
   },
   "outputs": [
    {
     "name": "stdout",
     "output_type": "stream",
     "text": [
      "Directory 'data' already exists.\n",
      "Starting download from: http://www.ee.columbia.edu/~thierry/artist_term.db\n",
      "--2024-11-20 18:22:56--  http://www.ee.columbia.edu/~thierry/artist_term.db\n",
      "Resolving www.ee.columbia.edu (www.ee.columbia.edu)... 162.159.128.65, 162.159.138.64\n",
      "Connecting to www.ee.columbia.edu (www.ee.columbia.edu)|162.159.128.65|:80... connected.\n",
      "HTTP request sent, awaiting response... 301 Moved Permanently\n",
      "Location: https://www.ee.columbia.edu/~thierry/artist_term.db [following]\n",
      "--2024-11-20 18:22:56--  https://www.ee.columbia.edu/~thierry/artist_term.db\n",
      "Connecting to www.ee.columbia.edu (www.ee.columbia.edu)|162.159.128.65|:443... connected.\n",
      "HTTP request sent, awaiting response... 200 OK\n",
      "Length: 138974208 (133M)\n",
      "Saving to: ‘data/artist_term.db’\n",
      "\n",
      "data/artist_term.db 100%[===================>] 132.54M  9.12MB/s    in 15s     \n",
      "\n",
      "2024-11-20 18:23:12 (8.72 MB/s) - ‘data/artist_term.db’ saved [138974208/138974208]\n",
      "\n",
      "Download completed successfully. Saved as 'data/artist_term.db'.\n",
      "Starting download from: http://millionsongdataset.com/sites/default/files/AdditionalFiles/mxm_dataset.db\n",
      "--2024-11-20 18:23:12--  http://millionsongdataset.com/sites/default/files/AdditionalFiles/mxm_dataset.db\n",
      "Resolving millionsongdataset.com (millionsongdataset.com)... 172.104.14.177\n",
      "Connecting to millionsongdataset.com (millionsongdataset.com)|172.104.14.177|:80... connected.\n",
      "HTTP request sent, awaiting response... 200 OK\n",
      "Length: 2441556992 (2.3G)\n",
      "Saving to: ‘data/mxm_dataset.db’\n",
      "\n",
      "data/mxm_dataset.db 100%[===================>]   2.27G  2.44MB/s    in 18m 54s \n",
      "\n",
      "2024-11-20 18:42:06 (2.05 MB/s) - ‘data/mxm_dataset.db’ saved [2441556992/2441556992]\n",
      "\n",
      "Download completed successfully. Saved as 'data/mxm_dataset.db'.\n",
      "Starting download from: http://labrosa.ee.columbia.edu/~dpwe/tmp/train_triplets.txt.zip\n",
      "--2024-11-20 18:42:06--  http://labrosa.ee.columbia.edu/~dpwe/tmp/train_triplets.txt.zip\n",
      "Resolving labrosa.ee.columbia.edu (labrosa.ee.columbia.edu)... 128.59.66.11\n",
      "Connecting to labrosa.ee.columbia.edu (labrosa.ee.columbia.edu)|128.59.66.11|:80... connected.\n",
      "HTTP request sent, awaiting response... 200 OK\n",
      "Length: 512137572 (488M) [application/zip]\n",
      "Saving to: ‘data/train_triplets.txt.zip’\n",
      "\n",
      "data/train_triplets 100%[===================>] 488.41M  2.19MB/s    in 3m 13s  \n",
      "\n",
      "2024-11-20 18:45:22 (2.52 MB/s) - ‘data/train_triplets.txt.zip’ saved [512137572/512137572]\n",
      "\n",
      "Download completed successfully. Saved as 'data/train_triplets.txt.zip'.\n",
      "Starting download from: http://millionsongdataset.com/sites/default/files/AdditionalFiles/track_metadata.db\n",
      "--2024-11-20 18:45:22--  http://millionsongdataset.com/sites/default/files/AdditionalFiles/track_metadata.db\n",
      "Resolving millionsongdataset.com (millionsongdataset.com)... 172.104.14.177\n",
      "Connecting to millionsongdataset.com (millionsongdataset.com)|172.104.14.177|:80... connected.\n",
      "HTTP request sent, awaiting response... 200 OK\n",
      "Length: 746180608 (712M)\n",
      "Saving to: ‘data/track_metadata.db’\n",
      "\n",
      "data/track_metadata 100%[===================>] 711.61M  2.36MB/s    in 5m 50s  \n",
      "\n",
      "2024-11-20 18:51:12 (2.03 MB/s) - ‘data/track_metadata.db’ saved [746180608/746180608]\n",
      "\n",
      "Download completed successfully. Saved as 'data/track_metadata.db'.\n",
      "Extracting 'train_triplets.txt.zip' into 'data'...\n",
      "Archive:  data/train_triplets.txt.zip\n",
      "  inflating: data/train_triplets.txt  \n",
      "Extraction completed successfully.\n",
      "Deleting archive 'train_triplets.txt.zip'...\n",
      "Archive 'train_triplets.txt.zip' deleted successfully.\n",
      "All operations completed successfully.\n"
     ]
    }
   ],
   "source": [
    "# Download the dataset\n",
    "!bash download_dataset.sh"
   ]
  },
  {
   "cell_type": "markdown",
   "metadata": {},
   "source": [
    "## Preprocessing"
   ]
  },
  {
   "cell_type": "code",
   "execution_count": 158,
   "metadata": {},
   "outputs": [],
   "source": [
    "from preprocessing.util.processor import Processor"
   ]
  },
  {
   "cell_type": "markdown",
   "metadata": {},
   "source": [
    "Read data from databases/datasets, do some basic preprocessing, and save them as DataFrames serialized to pickle files."
   ]
  },
  {
   "cell_type": "code",
   "execution_count": 159,
   "metadata": {},
   "outputs": [
    {
     "name": "stderr",
     "output_type": "stream",
     "text": [
      "Reading user listening history file: 48373586it [00:17, 2838733.69it/s]\n"
     ]
    },
    {
     "name": "stdout",
     "output_type": "stream",
     "text": [
      "Read 48373586 user triplets.\n",
      "Reading mbtags from data/artist_term.db\n",
      "Reading metadata from data/track_metadata.db\n",
      "Database connected.\n",
      "Columns in 'lyrics' table: ['track_id', 'mxm_tid', 'word', 'count', 'is_test', 'song_id']\n",
      "'song_id' column already exists.\n",
      "Lyrics table processed and pivoted with song_id as index.\n",
      "Database connection closed.\n"
     ]
    }
   ],
   "source": [
    "processor = Processor(debug_messages=True)\n",
    "processor.process()\n",
    "processor.save_data()"
   ]
  },
  {
   "cell_type": "markdown",
   "metadata": {},
   "source": [
    "## Loading"
   ]
  },
  {
   "cell_type": "code",
   "execution_count": 3,
   "metadata": {},
   "outputs": [
    {
     "name": "stderr",
     "output_type": "stream",
     "text": [
      "/Library/Frameworks/Python.framework/Versions/3.12/lib/python3.12/site-packages/tqdm/auto.py:21: TqdmWarning: IProgress not found. Please update jupyter and ipywidgets. See https://ipywidgets.readthedocs.io/en/stable/user_install.html\n",
      "  from .autonotebook import tqdm as notebook_tqdm\n"
     ]
    }
   ],
   "source": [
    "from models.data_provider import DataProvider"
   ]
  },
  {
   "cell_type": "code",
   "execution_count": 4,
   "metadata": {},
   "outputs": [],
   "source": [
    "data_provider = DataProvider(\n",
    "    label_embedding_technique='w2v',\n",
    "    embedding_config={\n",
    "        'vector_size': 100,\n",
    "        'window': 5,\n",
    "        'min_count': 1,\n",
    "        'workers': 4,\n",
    "        'sg': 1\n",
    "    },\n",
    "    save_embeddings_to_file=True,\n",
    "    load_embeddings_from_file=True,\n",
    "    clustering_method='kmeans',\n",
    "    debug=True\n",
    ")"
   ]
  },
  {
   "cell_type": "code",
   "execution_count": 5,
   "metadata": {},
   "outputs": [
    {
     "name": "stdout",
     "output_type": "stream",
     "text": [
      "Reading labels.\n",
      "Reading tagged metadata.\n",
      "Reading untagged metadata.\n",
      "Reading lyrics.\n",
      "Reading user data.\n"
     ]
    }
   ],
   "source": [
    "data_provider.load_data()"
   ]
  },
  {
   "cell_type": "code",
   "execution_count": 6,
   "metadata": {},
   "outputs": [
    {
     "name": "stdout",
     "output_type": "stream",
     "text": [
      "Generating training classes.\n",
      "Reading label embedding dictionary from data/embeddings/label_embeddings/embedding_w2v.pkl.\n",
      "Aggregating embeddings for all tracks.\n",
      "Clustering mbtag_embedding.\n"
     ]
    }
   ],
   "source": [
    "data_provider.generate_training_classes(cluster_config={'n_clusters': 10})"
   ]
  },
  {
   "cell_type": "code",
   "execution_count": 7,
   "metadata": {},
   "outputs": [
    {
     "data": {
      "image/png": "[encoded data removed]",
      "text/plain": [
       "<Figure size 640x480 with 1 Axes>"
      ]
     },
     "metadata": {},
     "output_type": "display_data"
    }
   ],
   "source": [
    "data_provider.plot_cluster_distribution()"
   ]
  },
  {
   "cell_type": "code",
   "execution_count": 8,
   "metadata": {},
   "outputs": [
    {
     "data": {
      "text/html": [
       "<div>\n",
       "<style scoped>\n",
       "    .dataframe tbody tr th:only-of-type {\n",
       "        vertical-align: middle;\n",
       "    }\n",
       "\n",
       "    .dataframe tbody tr th {\n",
       "        vertical-align: top;\n",
       "    }\n",
       "\n",
       "    .dataframe thead th {\n",
       "        text-align: right;\n",
       "    }\n",
       "</style>\n",
       "<table border=\"1\" class=\"dataframe\">\n",
       "  <thead>\n",
       "    <tr style=\"text-align: right;\">\n",
       "      <th></th>\n",
       "      <th>track_id</th>\n",
       "      <th>title</th>\n",
       "      <th>song_id</th>\n",
       "      <th>release</th>\n",
       "      <th>artist_id</th>\n",
       "      <th>artist_mbid</th>\n",
       "      <th>artist_name</th>\n",
       "      <th>duration</th>\n",
       "      <th>artist_familiarity</th>\n",
       "      <th>artist_hotttnesss</th>\n",
       "      <th>year</th>\n",
       "      <th>track_7digitalid</th>\n",
       "      <th>shs_perf</th>\n",
       "      <th>shs_work</th>\n",
       "    </tr>\n",
       "  </thead>\n",
       "  <tbody>\n",
       "    <tr>\n",
       "      <th>0</th>\n",
       "      <td>TRMMMYQ128F932D901</td>\n",
       "      <td>Silent Night</td>\n",
       "      <td>SOQMMHC12AB0180CB8</td>\n",
       "      <td>Monster Ballads X-Mas</td>\n",
       "      <td>ARYZTJS1187B98C555</td>\n",
       "      <td>357ff05d-848a-44cf-b608-cb34b5701ae5</td>\n",
       "      <td>Faster Pussy cat</td>\n",
       "      <td>252.05506</td>\n",
       "      <td>0.649822</td>\n",
       "      <td>0.394032</td>\n",
       "      <td>2003</td>\n",
       "      <td>7032331</td>\n",
       "      <td>-1</td>\n",
       "      <td>0</td>\n",
       "    </tr>\n",
       "    <tr>\n",
       "      <th>1</th>\n",
       "      <td>TRMMMKD128F425225D</td>\n",
       "      <td>Tanssi vaan</td>\n",
       "      <td>SOVFVAK12A8C1350D9</td>\n",
       "      <td>Karkuteillä</td>\n",
       "      <td>ARMVN3U1187FB3A1EB</td>\n",
       "      <td>8d7ef530-a6fd-4f8f-b2e2-74aec765e0f9</td>\n",
       "      <td>Karkkiautomaatti</td>\n",
       "      <td>156.55138</td>\n",
       "      <td>0.439604</td>\n",
       "      <td>0.356992</td>\n",
       "      <td>1995</td>\n",
       "      <td>1514808</td>\n",
       "      <td>-1</td>\n",
       "      <td>0</td>\n",
       "    </tr>\n",
       "    <tr>\n",
       "      <th>2</th>\n",
       "      <td>TRMMMRX128F93187D9</td>\n",
       "      <td>No One Could Ever</td>\n",
       "      <td>SOGTUKN12AB017F4F1</td>\n",
       "      <td>Butter</td>\n",
       "      <td>ARGEKB01187FB50750</td>\n",
       "      <td>3d403d44-36ce-465c-ad43-ae877e65adc4</td>\n",
       "      <td>Hudson Mohawke</td>\n",
       "      <td>138.97098</td>\n",
       "      <td>0.643681</td>\n",
       "      <td>0.437504</td>\n",
       "      <td>2006</td>\n",
       "      <td>6945353</td>\n",
       "      <td>-1</td>\n",
       "      <td>0</td>\n",
       "    </tr>\n",
       "    <tr>\n",
       "      <th>3</th>\n",
       "      <td>TRMMMCH128F425532C</td>\n",
       "      <td>Si Vos Querés</td>\n",
       "      <td>SOBNYVR12A8C13558C</td>\n",
       "      <td>De Culo</td>\n",
       "      <td>ARNWYLR1187B9B2F9C</td>\n",
       "      <td>12be7648-7094-495f-90e6-df4189d68615</td>\n",
       "      <td>Yerba Brava</td>\n",
       "      <td>145.05751</td>\n",
       "      <td>0.448501</td>\n",
       "      <td>0.372349</td>\n",
       "      <td>2003</td>\n",
       "      <td>2168257</td>\n",
       "      <td>-1</td>\n",
       "      <td>0</td>\n",
       "    </tr>\n",
       "    <tr>\n",
       "      <th>4</th>\n",
       "      <td>TRMMMWA128F426B589</td>\n",
       "      <td>Tangle Of Aspens</td>\n",
       "      <td>SOHSBXH12A8C13B0DF</td>\n",
       "      <td>Rene Ablaze Presents Winter Sessions</td>\n",
       "      <td>AREQDTE1269FB37231</td>\n",
       "      <td></td>\n",
       "      <td>Der Mystic</td>\n",
       "      <td>514.29832</td>\n",
       "      <td>0.000000</td>\n",
       "      <td>0.000000</td>\n",
       "      <td>0</td>\n",
       "      <td>2264873</td>\n",
       "      <td>-1</td>\n",
       "      <td>0</td>\n",
       "    </tr>\n",
       "  </tbody>\n",
       "</table>\n",
       "</div>"
      ],
      "text/plain": [
       "             track_id              title             song_id  \\\n",
       "0  TRMMMYQ128F932D901       Silent Night  SOQMMHC12AB0180CB8   \n",
       "1  TRMMMKD128F425225D        Tanssi vaan  SOVFVAK12A8C1350D9   \n",
       "2  TRMMMRX128F93187D9  No One Could Ever  SOGTUKN12AB017F4F1   \n",
       "3  TRMMMCH128F425532C      Si Vos Querés  SOBNYVR12A8C13558C   \n",
       "4  TRMMMWA128F426B589   Tangle Of Aspens  SOHSBXH12A8C13B0DF   \n",
       "\n",
       "                                release           artist_id  \\\n",
       "0                 Monster Ballads X-Mas  ARYZTJS1187B98C555   \n",
       "1                           Karkuteillä  ARMVN3U1187FB3A1EB   \n",
       "2                                Butter  ARGEKB01187FB50750   \n",
       "3                               De Culo  ARNWYLR1187B9B2F9C   \n",
       "4  Rene Ablaze Presents Winter Sessions  AREQDTE1269FB37231   \n",
       "\n",
       "                            artist_mbid       artist_name   duration  \\\n",
       "0  357ff05d-848a-44cf-b608-cb34b5701ae5  Faster Pussy cat  252.05506   \n",
       "1  8d7ef530-a6fd-4f8f-b2e2-74aec765e0f9  Karkkiautomaatti  156.55138   \n",
       "2  3d403d44-36ce-465c-ad43-ae877e65adc4    Hudson Mohawke  138.97098   \n",
       "3  12be7648-7094-495f-90e6-df4189d68615       Yerba Brava  145.05751   \n",
       "4                                              Der Mystic  514.29832   \n",
       "\n",
       "   artist_familiarity  artist_hotttnesss  year  track_7digitalid  shs_perf  \\\n",
       "0            0.649822           0.394032  2003           7032331        -1   \n",
       "1            0.439604           0.356992  1995           1514808        -1   \n",
       "2            0.643681           0.437504  2006           6945353        -1   \n",
       "3            0.448501           0.372349  2003           2168257        -1   \n",
       "4            0.000000           0.000000     0           2264873        -1   \n",
       "\n",
       "   shs_work  \n",
       "0         0  \n",
       "1         0  \n",
       "2         0  \n",
       "3         0  \n",
       "4         0  "
      ]
     },
     "execution_count": 8,
     "metadata": {},
     "output_type": "execute_result"
    }
   ],
   "source": [
    "data_provider.untagged_metadata_df.head()"
   ]
  },
  {
   "cell_type": "markdown",
   "metadata": {},
   "source": [
    "## Model"
   ]
  },
  {
   "cell_type": "markdown",
   "metadata": {},
   "source": [
    "### Metadata Model\n",
    "\n",
    "Generate an embedding vector for each song's metadata. This is done by creating an embedding for the song title, album title, and artist name, and concatenating them. Additional features such as release year, duration, an 'artist familiarity' rating, and 'artist hottness' rating are appended."
   ]
  },
  {
   "cell_type": "code",
   "execution_count": 9,
   "metadata": {},
   "outputs": [],
   "source": [
    "from models.metadata_model import MetadataModel"
   ]
  },
  {
   "cell_type": "code",
   "execution_count": 10,
   "metadata": {},
   "outputs": [],
   "source": [
    "generic_w2v_encoder_config = {\n",
    "    'embedding_technique': 'w2v',\n",
    "    'aggregation_technique': 'mean',\n",
    "    'load_from_file': True,\n",
    "    'save_to_file': True,\n",
    "    'vector_size': 100,\n",
    "    'window': 5,\n",
    "    'min_count': 1,\n",
    "    'workers': 4,\n",
    "    'sg': 1\n",
    "}\n",
    "metadata_model = MetadataModel(\n",
    "    metadata_df=data_provider.tagged_metadata_df,\n",
    "    configs={\n",
    "        'title_encoder': generic_w2v_encoder_config,\n",
    "        'release_encoder': generic_w2v_encoder_config,\n",
    "        'artist_name_encoder': generic_w2v_encoder_config\n",
    "    },\n",
    "    debug=True\n",
    ")"
   ]
  },
  {
   "cell_type": "code",
   "execution_count": 11,
   "metadata": {},
   "outputs": [
    {
     "name": "stdout",
     "output_type": "stream",
     "text": [
      "Reading label embedding dictionary from data/embeddings/title_embeddings/embedding_w2v.pkl.\n",
      "Reading label embedding dictionary from data/embeddings/release_embeddings/embedding_w2v.pkl.\n",
      "Reading label embedding dictionary from data/embeddings/artist_name_embeddings/embedding_w2v.pkl.\n"
     ]
    }
   ],
   "source": [
    "embeddings_df = metadata_model.get_metadata_embeddings()"
   ]
  },
  {
   "cell_type": "markdown",
   "metadata": {},
   "source": [
    "### Lyrics Model (WIP)"
   ]
  },
  {
   "cell_type": "code",
   "execution_count": 12,
   "metadata": {},
   "outputs": [],
   "source": [
    "# from models.lyrics_provider import LyricsProvider"
   ]
  },
  {
   "cell_type": "code",
   "execution_count": 13,
   "metadata": {},
   "outputs": [],
   "source": [
    "# lyrics_provider = LyricsProvider(data_provider.lyrics_df)\n",
    "# lyrics_provider.get_tfidf_embeddings()"
   ]
  },
  {
   "cell_type": "code",
   "execution_count": 14,
   "metadata": {},
   "outputs": [],
   "source": [
    "# lyrics_provider.lyrics_df.shape"
   ]
  },
  {
   "cell_type": "markdown",
   "metadata": {},
   "source": [
    "### Audio Model (WIP)"
   ]
  },
  {
   "cell_type": "markdown",
   "metadata": {},
   "source": [
    "### Fusion Step\n",
    "\n",
    "Now that we have all embeddings for each modality (metadata, lyrics, audio), we can perform fusion on them."
   ]
  },
  {
   "cell_type": "code",
   "execution_count": 364,
   "metadata": {},
   "outputs": [],
   "source": [
    "import numpy as np\n",
    "from models.fusion import FusionStep"
   ]
  },
  {
   "cell_type": "code",
   "execution_count": 16,
   "metadata": {},
   "outputs": [],
   "source": [
    "# Create matrices out of the embedding dataframes.\n",
    "metadata_embedding = np.array(embeddings_df['metadata_embedding'].tolist())"
   ]
  },
  {
   "cell_type": "code",
   "execution_count": 17,
   "metadata": {},
   "outputs": [],
   "source": [
    "fusion_step = FusionStep(\n",
    "    fusion_method='concat',\n",
    "    debug=True\n",
    ")\n",
    "fusion_step.load_component(metadata_embedding)\n",
    "fusion_step.fuse()\n",
    "fused_embedding = fusion_step.fused_vectors"
   ]
  },
  {
   "cell_type": "markdown",
   "metadata": {},
   "source": [
    "## Training"
   ]
  },
  {
   "cell_type": "markdown",
   "metadata": {},
   "source": [
    "We have our fused embeddings which are the input to the fusion DNN model. We can now train it."
   ]
  },
  {
   "cell_type": "code",
   "execution_count": null,
   "metadata": {},
   "outputs": [],
   "source": [
    "from models.train import FusionModelTrainer"
   ]
  },
  {
   "cell_type": "code",
   "execution_count": 38,
   "metadata": {},
   "outputs": [],
   "source": [
    "train_test_split_mask = data_provider.train_test_split_mask"
   ]
  },
  {
   "cell_type": "code",
   "execution_count": 20,
   "metadata": {},
   "outputs": [],
   "source": [
    "train_data = fused_embedding[train_test_split_mask]\n",
    "train_labels = np.array(data_provider.labels_df['cluster'][train_test_split_mask])\n",
    "\n",
    "test_data = fused_embedding[~train_test_split_mask]\n",
    "test_labels = np.array(data_provider.labels_df['cluster'][~train_test_split_mask])"
   ]
  },
  {
   "cell_type": "code",
   "execution_count": null,
   "metadata": {},
   "outputs": [],
   "source": [
    "train_config = {\n",
    "    'learning_rate': 0.0005,\n",
    "    'num_epochs': 1000,\n",
    "    'dropout_rate': 0.3,\n",
    "}\n",
    "trainer = FusionModelTrainer(\n",
    "    train_data=train_data,\n",
    "    train_labels=train_labels,\n",
    "    test_data=test_data,\n",
    "    test_labels=test_labels,\n",
    "    hidden_sizes=[128, 256, 512],\n",
    "    num_classes=10,  # make sure this is equal to the number of training classes generated\n",
    "    config=train_config,\n",
    "    debug=False\n",
    ")"
   ]
  },
  {
   "cell_type": "code",
   "execution_count": 69,
   "metadata": {},
   "outputs": [
    {
     "name": "stderr",
     "output_type": "stream",
     "text": [
      "Training Fusion Model: 100%|██████████| 1000/1000 [08:15<00:00,  2.02it/s]\n"
     ]
    }
   ],
   "source": [
    "# Rerun this cell to train the model again.\n",
    "trainer.train()"
   ]
  },
  {
   "cell_type": "code",
   "execution_count": 70,
   "metadata": {},
   "outputs": [
    {
     "data": {
      "image/png": "[encoded data removed]",
      "text/plain": [
       "<Figure size 640x480 with 1 Axes>"
      ]
     },
     "metadata": {},
     "output_type": "display_data"
    }
   ],
   "source": [
    "trainer.plot_accuracies()"
   ]
  },
  {
   "cell_type": "code",
   "execution_count": 71,
   "metadata": {},
   "outputs": [
    {
     "data": {
      "text/plain": [
       "(0.3002030576834234, 0.2907871122126314)"
      ]
     },
     "execution_count": 71,
     "metadata": {},
     "output_type": "execute_result"
    }
   ],
   "source": [
    "trainer.latest_accuracies()"
   ]
  },
  {
   "cell_type": "markdown",
   "metadata": {},
   "source": [
    "# Recommender"
   ]
  },
  {
   "cell_type": "code",
   "execution_count": 415,
   "metadata": {},
   "outputs": [],
   "source": [
    "import pandas as pd\n",
    "from models.recommender import Recommender, RecommenderEvaluator"
   ]
  },
  {
   "cell_type": "code",
   "execution_count": 369,
   "metadata": {},
   "outputs": [],
   "source": [
    "test_predicted = trainer.get_test_inferences().tolist()\n",
    "test_track_ids = data_provider.tagged_metadata_df['song_id'][~train_test_split_mask].tolist()\n",
    "test_predictions_df = pd.DataFrame(data=[test_track_ids, test_predicted], index=['song_id', 'prediction']).T"
   ]
  },
  {
   "cell_type": "code",
   "execution_count": 495,
   "metadata": {},
   "outputs": [
    {
     "data": {
      "text/plain": [
       "(48374, 3)"
      ]
     },
     "execution_count": 495,
     "metadata": {},
     "output_type": "execute_result"
    }
   ],
   "source": [
    "# downsample the user_data_df to consider less users for reasonable evaluation time (using 1% of the user listening history data)\n",
    "user_data_df = data_provider.user_data_df.sample(frac=0.001)\n",
    "user_data_df.shape"
   ]
  },
  {
   "cell_type": "code",
   "execution_count": 496,
   "metadata": {},
   "outputs": [],
   "source": [
    "recommender = Recommender(\n",
    "    user_data_df=user_data_df,\n",
    "    predictions_df=test_predictions_df,\n",
    "    debug=False\n",
    ")"
   ]
  },
  {
   "cell_type": "code",
   "execution_count": 497,
   "metadata": {},
   "outputs": [
    {
     "name": "stdout",
     "output_type": "stream",
     "text": [
      "Proportion of test songs in user_data_df: 0.01%\n",
      "Number of records of user_data_df used by recommender (only songs in test set): 3649\n"
     ]
    }
   ],
   "source": [
    "print(f\"Proportion of test songs in user_data_df: {recommender.user_data_df.shape[0] / data_provider.user_data_df.shape[0] * 100:.2f}%\")\n",
    "print(f\"Number of records of user_data_df used by recommender (only songs in test set): {recommender.user_data_df.shape[0]}\")"
   ]
  },
  {
   "cell_type": "code",
   "execution_count": 498,
   "metadata": {},
   "outputs": [
    {
     "name": "stderr",
     "output_type": "stream",
     "text": [
      "/Users/danieloman1/Desktop/multimodal-music-recommender/models/recommender.py:69: SettingWithCopyWarning: \n",
      "A value is trying to be set on a copy of a slice from a DataFrame.\n",
      "Try using .loc[row_indexer,col_indexer] = value instead\n",
      "\n",
      "See the caveats in the documentation: https://pandas.pydata.org/pandas-docs/stable/user_guide/indexing.html#returning-a-view-versus-a-copy\n",
      "  predictions['similarity'] = predictions['prediction'].apply(lambda x: np.dot(np.array(x), fingerprint))\n"
     ]
    },
    {
     "data": {
      "text/html": [
       "<div>\n",
       "<style scoped>\n",
       "    .dataframe tbody tr th:only-of-type {\n",
       "        vertical-align: middle;\n",
       "    }\n",
       "\n",
       "    .dataframe tbody tr th {\n",
       "        vertical-align: top;\n",
       "    }\n",
       "\n",
       "    .dataframe thead th {\n",
       "        text-align: right;\n",
       "    }\n",
       "</style>\n",
       "<table border=\"1\" class=\"dataframe\">\n",
       "  <thead>\n",
       "    <tr style=\"text-align: right;\">\n",
       "      <th></th>\n",
       "      <th>song_id</th>\n",
       "      <th>prediction</th>\n",
       "      <th>similarity</th>\n",
       "    </tr>\n",
       "  </thead>\n",
       "  <tbody>\n",
       "    <tr>\n",
       "      <th>0</th>\n",
       "      <td>SOKOVRQ12A8C142811</td>\n",
       "      <td>[0.0, 0.0, 0.0, 1.0, 0.0, 0.0, 0.0, 0.0, 0.0, ...</td>\n",
       "      <td>1.0</td>\n",
       "    </tr>\n",
       "    <tr>\n",
       "      <th>15031</th>\n",
       "      <td>SORWPCP12A8C13B9D8</td>\n",
       "      <td>[0.0, 0.0, 0.0, 1.0, 0.0, 0.0, 0.0, 0.0, 0.0, ...</td>\n",
       "      <td>1.0</td>\n",
       "    </tr>\n",
       "    <tr>\n",
       "      <th>15044</th>\n",
       "      <td>SOQXLUW12A8AE48572</td>\n",
       "      <td>[0.0, 0.0, 0.0, 1.0, 0.0, 0.0, 0.0, 0.0, 0.0, ...</td>\n",
       "      <td>1.0</td>\n",
       "    </tr>\n",
       "    <tr>\n",
       "      <th>15043</th>\n",
       "      <td>SOTVVQF12A8C1417B8</td>\n",
       "      <td>[0.0, 0.0, 0.0, 1.0, 0.0, 0.0, 0.0, 0.0, 0.0, ...</td>\n",
       "      <td>1.0</td>\n",
       "    </tr>\n",
       "    <tr>\n",
       "      <th>15042</th>\n",
       "      <td>SOWHFYD12A58A7E4FA</td>\n",
       "      <td>[0.0, 0.0, 0.0, 1.0, 0.0, 0.0, 0.0, 0.0, 0.0, ...</td>\n",
       "      <td>1.0</td>\n",
       "    </tr>\n",
       "    <tr>\n",
       "      <th>15037</th>\n",
       "      <td>SOADZXA12AB0180129</td>\n",
       "      <td>[0.0, 0.0, 0.0, 1.0, 0.0, 0.0, 0.0, 0.0, 0.0, ...</td>\n",
       "      <td>1.0</td>\n",
       "    </tr>\n",
       "    <tr>\n",
       "      <th>15036</th>\n",
       "      <td>SOUFUAB12A8C14583E</td>\n",
       "      <td>[0.0, 0.0, 0.0, 1.0, 0.0, 0.0, 0.0, 0.0, 0.0, ...</td>\n",
       "      <td>1.0</td>\n",
       "    </tr>\n",
       "    <tr>\n",
       "      <th>15035</th>\n",
       "      <td>SOHJHYL12A58A786CA</td>\n",
       "      <td>[0.0, 0.0, 0.0, 1.0, 0.0, 0.0, 0.0, 0.0, 0.0, ...</td>\n",
       "      <td>1.0</td>\n",
       "    </tr>\n",
       "    <tr>\n",
       "      <th>15034</th>\n",
       "      <td>SOZZQRF12A8C134FBB</td>\n",
       "      <td>[0.0, 0.0, 0.0, 1.0, 0.0, 0.0, 0.0, 0.0, 0.0, ...</td>\n",
       "      <td>1.0</td>\n",
       "    </tr>\n",
       "    <tr>\n",
       "      <th>15033</th>\n",
       "      <td>SOXVKUJ12AB0185D68</td>\n",
       "      <td>[0.0, 0.0, 0.0, 1.0, 0.0, 0.0, 0.0, 0.0, 0.0, ...</td>\n",
       "      <td>1.0</td>\n",
       "    </tr>\n",
       "  </tbody>\n",
       "</table>\n",
       "</div>"
      ],
      "text/plain": [
       "                  song_id                                         prediction  \\\n",
       "0      SOKOVRQ12A8C142811  [0.0, 0.0, 0.0, 1.0, 0.0, 0.0, 0.0, 0.0, 0.0, ...   \n",
       "15031  SORWPCP12A8C13B9D8  [0.0, 0.0, 0.0, 1.0, 0.0, 0.0, 0.0, 0.0, 0.0, ...   \n",
       "15044  SOQXLUW12A8AE48572  [0.0, 0.0, 0.0, 1.0, 0.0, 0.0, 0.0, 0.0, 0.0, ...   \n",
       "15043  SOTVVQF12A8C1417B8  [0.0, 0.0, 0.0, 1.0, 0.0, 0.0, 0.0, 0.0, 0.0, ...   \n",
       "15042  SOWHFYD12A58A7E4FA  [0.0, 0.0, 0.0, 1.0, 0.0, 0.0, 0.0, 0.0, 0.0, ...   \n",
       "15037  SOADZXA12AB0180129  [0.0, 0.0, 0.0, 1.0, 0.0, 0.0, 0.0, 0.0, 0.0, ...   \n",
       "15036  SOUFUAB12A8C14583E  [0.0, 0.0, 0.0, 1.0, 0.0, 0.0, 0.0, 0.0, 0.0, ...   \n",
       "15035  SOHJHYL12A58A786CA  [0.0, 0.0, 0.0, 1.0, 0.0, 0.0, 0.0, 0.0, 0.0, ...   \n",
       "15034  SOZZQRF12A8C134FBB  [0.0, 0.0, 0.0, 1.0, 0.0, 0.0, 0.0, 0.0, 0.0, ...   \n",
       "15033  SOXVKUJ12AB0185D68  [0.0, 0.0, 0.0, 1.0, 0.0, 0.0, 0.0, 0.0, 0.0, ...   \n",
       "\n",
       "       similarity  \n",
       "0             1.0  \n",
       "15031         1.0  \n",
       "15044         1.0  \n",
       "15043         1.0  \n",
       "15042         1.0  \n",
       "15037         1.0  \n",
       "15036         1.0  \n",
       "15035         1.0  \n",
       "15034         1.0  \n",
       "15033         1.0  "
      ]
     },
     "execution_count": 498,
     "metadata": {},
     "output_type": "execute_result"
    }
   ],
   "source": [
    "# chose a random user to recommend\n",
    "user_id = recommender.user_data_df['user_id'].sample().iloc[0]\n",
    "recommendations = recommender.recommend(user_id, n=10, omit_listened_to=True)\n",
    "recommendations"
   ]
  },
  {
   "cell_type": "code",
   "execution_count": 499,
   "metadata": {},
   "outputs": [],
   "source": [
    "recommender_evaluator = RecommenderEvaluator(recommender)"
   ]
  },
  {
   "cell_type": "code",
   "execution_count": 502,
   "metadata": {},
   "outputs": [
    {
     "name": "stderr",
     "output_type": "stream",
     "text": [
      "Computing mAP with top 500 recommendations per user: 100%|██████████| 3632/3632 [01:20<00:00, 44.88it/s]\n"
     ]
    },
    {
     "data": {
      "text/plain": [
       "0.011754948139050531"
      ]
     },
     "execution_count": 502,
     "metadata": {},
     "output_type": "execute_result"
    }
   ],
   "source": [
    "recommender_evaluator.evaluate()"
   ]
  },
  {
   "cell_type": "markdown",
   "metadata": {},
   "source": [
    "## End-To-End Recommendation\n",
    "\n",
    "Use this section to tune hyperparemeters for e2e execution."
   ]
  },
  {
   "cell_type": "code",
   "execution_count": 503,
   "metadata": {},
   "outputs": [],
   "source": [
    "from e2e_recommender import E2ERecommender"
   ]
  },
  {
   "cell_type": "code",
   "execution_count": 517,
   "metadata": {},
   "outputs": [],
   "source": [
    "# Config for e2e recommendation model\n",
    "config = {\n",
    "    'data_provider': {\n",
    "        'label_embedding_technique': 'w2v',\n",
    "        'embedding_config': {\n",
    "            'vector_size': 100,\n",
    "            'window': 5,\n",
    "            'min_count': 1,\n",
    "            'workers': 4,\n",
    "            'sg': 1\n",
    "        },\n",
    "        'save_embeddings_to_file': True,\n",
    "        'load_embeddings_from_file': True,  # should be false if generating new embeddings using new parameters\n",
    "        'clustering_method': 'kmeans',\n",
    "        'cluster_config': {\n",
    "            'n_clusters': 10\n",
    "        }\n",
    "    },\n",
    "    'metadata_model': {\n",
    "        'title_encoder_config': {\n",
    "            'embedding_technique': 'w2v',\n",
    "            'aggregation_technique': 'mean',\n",
    "            'load_from_file': True,\n",
    "            'save_to_file': True,\n",
    "            'vector_size': 100,\n",
    "            'window': 5,\n",
    "            'min_count': 1,\n",
    "            'workers': 4,\n",
    "            'sg': 1\n",
    "        },\n",
    "        'release_encoder_config': {\n",
    "            'embedding_technique': 'w2v',\n",
    "            'aggregation_technique': 'mean',\n",
    "            'load_from_file': True,  # should be false if generating new embeddings using new parameters\n",
    "            'save_to_file': True,\n",
    "            'vector_size': 100,\n",
    "            'window': 5,\n",
    "            'min_count': 1,\n",
    "            'workers': 4,\n",
    "            'sg': 1\n",
    "        },\n",
    "        'artist_name_encoder_config': {\n",
    "            'embedding_technique': 'w2v',\n",
    "            'aggregation_technique': 'mean',\n",
    "            'load_from_file': True,  # should be false if generating new embeddings using new parameters\n",
    "            'save_to_file': True,\n",
    "            'vector_size': 100,\n",
    "            'window': 5,\n",
    "            'min_count': 1,\n",
    "            'workers': 4,\n",
    "            'sg': 1\n",
    "        },\n",
    "    },\n",
    "    'fusion': {\n",
    "        'fusion_method': 'concat',\n",
    "    },\n",
    "    'train': {\n",
    "        'hidden_sizes': [128, 256, 512],\n",
    "        'learning_rate': 0.0005,\n",
    "        'num_epochs': 100,\n",
    "        'dropout_prob': 0.3,\n",
    "    },\n",
    "    'recommender': {\n",
    "        'sample_frac': 0.001,\n",
    "        'n_recommendations': 10,\n",
    "    }\n",
    "}\n",
    "e2e_recommender = E2ERecommender(config)"
   ]
  },
  {
   "cell_type": "code",
   "execution_count": 521,
   "metadata": {},
   "outputs": [
    {
     "name": "stdout",
     "output_type": "stream",
     "text": [
      "Training Classes Step\n",
      "Multimodal Features Step\n",
      "Fusion Step\n",
      "Train Fusion Model Step\n"
     ]
    },
    {
     "name": "stderr",
     "output_type": "stream",
     "text": [
      "Training Fusion Model: 100%|██████████| 100/100 [00:49<00:00,  2.03it/s]\n"
     ]
    },
    {
     "name": "stdout",
     "output_type": "stream",
     "text": [
      "Recommender System Step\n"
     ]
    },
    {
     "name": "stderr",
     "output_type": "stream",
     "text": [
      "Computing mAP with top 10 recommendations per user: 100%|██████████| 3545/3545 [01:18<00:00, 45.03it/s]\n"
     ]
    },
    {
     "data": {
      "image/png": "[encoded data removed]",
      "text/plain": [
       "<Figure size 640x480 with 1 Axes>"
      ]
     },
     "metadata": {},
     "output_type": "display_data"
    }
   ],
   "source": [
    "e2e_recommender.execute()"
   ]
  },
  {
   "cell_type": "code",
   "execution_count": null,
   "metadata": {},
   "outputs": [],
   "source": []
  }
 ],
 "metadata": {
  "kernelspec": {
   "display_name": "Python 3",
   "language": "python",
   "name": "python3"
  },
  "language_info": {
   "codemirror_mode": {
    "name": "ipython",
    "version": 3
   },
   "file_extension": ".py",
   "mimetype": "text/x-python",
   "name": "python",
   "nbconvert_exporter": "python",
   "pygments_lexer": "ipython3",
   "version": "3.12.2"
  }
 },
 "nbformat": 4,
 "nbformat_minor": 2
}
