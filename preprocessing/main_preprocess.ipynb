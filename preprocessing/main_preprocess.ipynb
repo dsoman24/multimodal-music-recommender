{
 "cells": [
  {
   "cell_type": "markdown",
   "metadata": {},
   "source": [
    "# Preprocessing\n",
    "\n",
    "The purpose of this notebook is to preprocess all data from the MSD, and explore techniques to reduce the dimensionality of the label space.\n",
    "We intend to transform the training ground-truth label into a smaller set of labels to prevent model underfitting."
   ]
  },
  {
   "cell_type": "code",
   "execution_count": 1,
   "metadata": {},
   "outputs": [],
   "source": [
    "%load_ext autoreload\n",
    "%autoreload 2\n",
    "import os\n",
    "import util.hd5_reader as hd5r\n",
    "from util.data_processor import DataProcessor\n",
    "import pandas as pd\n",
    "from tqdm import tqdm\n",
    "import sys\n",
    "sys.path.append(os.path.abspath(os.path.join(os.getcwd(), '..')))"
   ]
  },
  {
   "cell_type": "code",
   "execution_count": 2,
   "metadata": {},
   "outputs": [],
   "source": [
    "parent_directory = os.path.abspath(os.path.join(os.getcwd(), os.pardir))\n",
    "data_dir = os.path.join(parent_directory, 'data')"
   ]
  },
  {
   "cell_type": "code",
   "execution_count": 3,
   "metadata": {},
   "outputs": [
    {
     "name": "stdout",
     "output_type": "stream",
     "text": [
      "Available Groups:\n",
      "- analysis\n",
      "- metadata\n",
      "- musicbrainz\n"
     ]
    }
   ],
   "source": [
    "p = '/Users/danieloman1/Desktop/multimodal-music-recommender/data/MillionSongSubset/A/A/A/TRAAAAW128F429D538.h5'\n",
    "hd5r.list_groups(p)"
   ]
  },
  {
   "cell_type": "code",
   "execution_count": 4,
   "metadata": {},
   "outputs": [
    {
     "name": "stdout",
     "output_type": "stream",
     "text": [
      "Available Datasets:\n",
      "- analysis/bars_confidence\n",
      "- analysis/bars_start\n",
      "- analysis/beats_confidence\n",
      "- analysis/beats_start\n",
      "- analysis/sections_confidence\n",
      "- analysis/sections_start\n",
      "- analysis/segments_confidence\n",
      "- analysis/segments_loudness_max\n",
      "- analysis/segments_loudness_max_time\n",
      "- analysis/segments_loudness_start\n",
      "- analysis/segments_pitches\n",
      "- analysis/segments_start\n",
      "- analysis/segments_timbre\n",
      "- analysis/songs\n",
      "- analysis/tatums_confidence\n",
      "- analysis/tatums_start\n",
      "- metadata/artist_terms\n",
      "- metadata/artist_terms_freq\n",
      "- metadata/artist_terms_weight\n",
      "- metadata/similar_artists\n",
      "- metadata/songs\n",
      "- musicbrainz/artist_mbtags\n",
      "- musicbrainz/artist_mbtags_count\n",
      "- musicbrainz/songs\n"
     ]
    },
    {
     "data": {
      "text/plain": [
       "['analysis/bars_confidence',\n",
       " 'analysis/bars_start',\n",
       " 'analysis/beats_confidence',\n",
       " 'analysis/beats_start',\n",
       " 'analysis/sections_confidence',\n",
       " 'analysis/sections_start',\n",
       " 'analysis/segments_confidence',\n",
       " 'analysis/segments_loudness_max',\n",
       " 'analysis/segments_loudness_max_time',\n",
       " 'analysis/segments_loudness_start',\n",
       " 'analysis/segments_pitches',\n",
       " 'analysis/segments_start',\n",
       " 'analysis/segments_timbre',\n",
       " 'analysis/songs',\n",
       " 'analysis/tatums_confidence',\n",
       " 'analysis/tatums_start',\n",
       " 'metadata/artist_terms',\n",
       " 'metadata/artist_terms_freq',\n",
       " 'metadata/artist_terms_weight',\n",
       " 'metadata/similar_artists',\n",
       " 'metadata/songs',\n",
       " 'musicbrainz/artist_mbtags',\n",
       " 'musicbrainz/artist_mbtags_count',\n",
       " 'musicbrainz/songs']"
      ]
     },
     "execution_count": 4,
     "metadata": {},
     "output_type": "execute_result"
    }
   ],
   "source": [
    "hd5r.list_datasets(p)"
   ]
  },
  {
   "cell_type": "code",
   "execution_count": 5,
   "metadata": {},
   "outputs": [
    {
     "name": "stdout",
     "output_type": "stream",
     "text": [
      "Available fields in 'metadata/songs':\n",
      " - analyzer_version\n",
      " - artist_7digitalid\n",
      " - artist_familiarity\n",
      " - artist_hotttnesss\n",
      " - artist_id\n",
      " - artist_latitude\n",
      " - artist_location\n",
      " - artist_longitude\n",
      " - artist_mbid\n",
      " - artist_name\n",
      " - artist_playmeid\n",
      " - genre\n",
      " - idx_artist_terms\n",
      " - idx_similar_artists\n",
      " - release\n",
      " - release_7digitalid\n",
      " - song_hotttnesss\n",
      " - song_id\n",
      " - title\n",
      " - track_7digitalid\n"
     ]
    }
   ],
   "source": [
    "hd5r.fields_in_dataset(p, 'metadata/songs')"
   ]
  },
  {
   "cell_type": "code",
   "execution_count": 6,
   "metadata": {},
   "outputs": [
    {
     "name": "stdout",
     "output_type": "stream",
     "text": [
      "No fields found in 'analysis/bars_start'.\n"
     ]
    }
   ],
   "source": [
    "hd5r.fields_in_dataset(p, 'analysis/bars_start')\n"
   ]
  },
  {
   "cell_type": "code",
   "execution_count": 7,
   "metadata": {},
   "outputs": [],
   "source": [
    "processor = DataProcessor(\n",
    "    data_dir=data_dir,\n",
    "    mbtag_db_path=os.path.join(data_dir, 'artist_term.db'),\n",
    "    desired_fields={\n",
    "        'metadata/songs': [\n",
    "            'title',\n",
    "            'artist_name',\n",
    "            'artist_id',\n",
    "            'song_id',\n",
    "        ],\n",
    "        'analysis/songs': [\n",
    "            'danceability',\n",
    "            'duration',\n",
    "            'energy',\n",
    "            'end_of_fade_in',\n",
    "            'key',\n",
    "            'loudness',\n",
    "            'mode',\n",
    "            'start_of_fade_out',\n",
    "            'tempo',\n",
    "            'time_signature',\n",
    "        ],\n",
    "        'analysis/bars_start': [],\n",
    "        'analysis/beats_start': [],\n",
    "        'analysis/segments_start': [],\n",
    "        'analysis/sections_start': [],\n",
    "        'analysis/segments_loudness_max': [],\n",
    "        'analysis/segments_pitches': [],\n",
    "        'analysis/segments_timbre': [],\n",
    "        'analysis/tatums_start': [],\n",
    "    },\n",
    "    debug_messages=True\n",
    ")"
   ]
  },
  {
   "cell_type": "code",
   "execution_count": 8,
   "metadata": {},
   "outputs": [
    {
     "name": "stdout",
     "output_type": "stream",
     "text": [
      "Found 10000 files with extension '.h5' in '/Users/danieloman1/Desktop/multimodal-music-recommender/data'.\n"
     ]
    },
    {
     "name": "stderr",
     "output_type": "stream",
     "text": [
      "Processing files: 100%|██████████| 10000/10000 [01:25<00:00, 116.68it/s]\n"
     ]
    }
   ],
   "source": [
    "data = processor.process_dataset_df()"
   ]
  },
  {
   "cell_type": "code",
   "execution_count": 9,
   "metadata": {},
   "outputs": [
    {
     "data": {
      "text/plain": [
       "(10000, 23)"
      ]
     },
     "execution_count": 9,
     "metadata": {},
     "output_type": "execute_result"
    }
   ],
   "source": [
    "data.shape"
   ]
  },
  {
   "cell_type": "code",
   "execution_count": 10,
   "metadata": {},
   "outputs": [
    {
     "data": {
      "text/html": [
       "<div>\n",
       "<style scoped>\n",
       "    .dataframe tbody tr th:only-of-type {\n",
       "        vertical-align: middle;\n",
       "    }\n",
       "\n",
       "    .dataframe tbody tr th {\n",
       "        vertical-align: top;\n",
       "    }\n",
       "\n",
       "    .dataframe thead th {\n",
       "        text-align: right;\n",
       "    }\n",
       "</style>\n",
       "<table border=\"1\" class=\"dataframe\">\n",
       "  <thead>\n",
       "    <tr style=\"text-align: right;\">\n",
       "      <th></th>\n",
       "      <th>title</th>\n",
       "      <th>artist_name</th>\n",
       "      <th>artist_id</th>\n",
       "      <th>song_id</th>\n",
       "      <th>danceability</th>\n",
       "      <th>duration</th>\n",
       "      <th>energy</th>\n",
       "      <th>end_of_fade_in</th>\n",
       "      <th>key</th>\n",
       "      <th>loudness</th>\n",
       "      <th>...</th>\n",
       "      <th>time_signature</th>\n",
       "      <th>analysis/bars_start</th>\n",
       "      <th>analysis/beats_start</th>\n",
       "      <th>analysis/segments_start</th>\n",
       "      <th>analysis/sections_start</th>\n",
       "      <th>analysis/segments_loudness_max</th>\n",
       "      <th>analysis/segments_pitches</th>\n",
       "      <th>analysis/segments_timbre</th>\n",
       "      <th>analysis/tatums_start</th>\n",
       "      <th>mbtag</th>\n",
       "    </tr>\n",
       "  </thead>\n",
       "  <tbody>\n",
       "    <tr>\n",
       "      <th>0</th>\n",
       "      <td>Je Sais Que La Terre Est Plate</td>\n",
       "      <td>Raphaël</td>\n",
       "      <td>AREJXK41187B9A4ACC</td>\n",
       "      <td>SOGSMXL12A81C23D88</td>\n",
       "      <td>0.0</td>\n",
       "      <td>148.74077</td>\n",
       "      <td>0.0</td>\n",
       "      <td>0.192</td>\n",
       "      <td>0</td>\n",
       "      <td>-9.636</td>\n",
       "      <td>...</td>\n",
       "      <td>4</td>\n",
       "      <td>[0.52458, 2.4444, 4.3658, 6.30006, 8.22086, 10...</td>\n",
       "      <td>[0.04257, 0.52458, 1.00659, 1.48632, 1.96605, ...</td>\n",
       "      <td>[0.0, 0.19188, 0.60499, 0.84939, 1.10018, 1.36...</td>\n",
       "      <td>[0.0, 7.74174, 40.30707, 80.4797, 89.656, 127....</td>\n",
       "      <td>[-60.0, -52.849, -42.59, -41.542, -32.881, -34...</td>\n",
       "      <td>[[0.726, 0.112, 0.02, 0.019, 0.01, 0.038, 0.03...</td>\n",
       "      <td>[[0.0, 171.13, 9.469, -28.48, 57.491, -50.067,...</td>\n",
       "      <td>[0.04257, 0.28357, 0.52458, 0.76558, 1.00659, ...</td>\n",
       "      <td>NaN</td>\n",
       "    </tr>\n",
       "    <tr>\n",
       "      <th>1</th>\n",
       "      <td>On Efface</td>\n",
       "      <td>Julie Zenatti</td>\n",
       "      <td>AR2XRFQ1187FB417FE</td>\n",
       "      <td>SOMBCOW12AAF3B229F</td>\n",
       "      <td>0.0</td>\n",
       "      <td>252.99546</td>\n",
       "      <td>0.0</td>\n",
       "      <td>0.514</td>\n",
       "      <td>1</td>\n",
       "      <td>-11.061</td>\n",
       "      <td>...</td>\n",
       "      <td>4</td>\n",
       "      <td>[8.69527, 12.01758, 14.81363, 20.09003, 22.693...</td>\n",
       "      <td>[0.59161, 1.33555, 2.07949, 2.82093, 3.56238, ...</td>\n",
       "      <td>[0.0, 0.51379, 0.89138, 1.30912, 1.65297, 2.05...</td>\n",
       "      <td>[0.0, 7.08047, 39.03442, 89.26989, 114.94898, ...</td>\n",
       "      <td>[-59.854, -31.966, -33.722, -34.887, -36.92, -...</td>\n",
       "      <td>[[0.943, 1.0, 0.91, 0.782, 0.726, 0.806, 0.314...</td>\n",
       "      <td>[[0.008, 170.986, 9.126, -28.685, 57.183, -50....</td>\n",
       "      <td>[0.59161, 0.84042, 1.08799, 1.33555, 1.58436, ...</td>\n",
       "      <td>NaN</td>\n",
       "    </tr>\n",
       "    <tr>\n",
       "      <th>2</th>\n",
       "      <td>Howells Delight</td>\n",
       "      <td>The Baltimore Consort</td>\n",
       "      <td>ARODOO01187FB44F4A</td>\n",
       "      <td>SOEYIHF12AB017B5F4</td>\n",
       "      <td>0.0</td>\n",
       "      <td>78.02730</td>\n",
       "      <td>0.0</td>\n",
       "      <td>0.974</td>\n",
       "      <td>3</td>\n",
       "      <td>-24.140</td>\n",
       "      <td>...</td>\n",
       "      <td>4</td>\n",
       "      <td>[1.95344, 6.35701, 10.70579, 15.07913, 19.4832...</td>\n",
       "      <td>[1.95344, 3.0622, 4.16548, 5.26467, 6.35701, 7...</td>\n",
       "      <td>[0.0, 0.97365, 1.34431, 1.81351, 2.19764, 2.44...</td>\n",
       "      <td>[0.0, 13.98322, 29.36585, 42.60077]</td>\n",
       "      <td>[-57.038, -34.87, -27.931, -27.929, -26.243, -...</td>\n",
       "      <td>[[1.0, 0.926, 0.264, 0.384, 0.298, 0.261, 0.22...</td>\n",
       "      <td>[[1.337, 145.247, -43.274, -47.807, 18.519, -4...</td>\n",
       "      <td>[1.11537, 1.39701, 1.67864, 1.95344, 2.23097, ...</td>\n",
       "      <td>NaN</td>\n",
       "    </tr>\n",
       "    <tr>\n",
       "      <th>3</th>\n",
       "      <td>Martha Served</td>\n",
       "      <td>I Hate Sally</td>\n",
       "      <td>ARJGW911187FB586CA</td>\n",
       "      <td>SODJYEC12A8C13D757</td>\n",
       "      <td>0.0</td>\n",
       "      <td>163.63057</td>\n",
       "      <td>0.0</td>\n",
       "      <td>0.000</td>\n",
       "      <td>7</td>\n",
       "      <td>-5.795</td>\n",
       "      <td>...</td>\n",
       "      <td>3</td>\n",
       "      <td>[0.39309, 2.75109, 5.13649, 7.52978, 9.95582, ...</td>\n",
       "      <td>[0.39309, 1.17222, 1.95902, 2.75109, 3.55236, ...</td>\n",
       "      <td>[0.0, 0.07306, 0.36862, 0.64739, 0.79238, 1.04...</td>\n",
       "      <td>[0.0, 8.33166, 37.94071, 63.53617, 82.18998, 9...</td>\n",
       "      <td>[-41.332, -7.537, -9.059, -9.55, -8.652, -9.24...</td>\n",
       "      <td>[[0.835, 0.639, 0.492, 0.399, 0.326, 0.697, 0....</td>\n",
       "      <td>[[14.832, -56.33, 69.981, -43.028, 138.861, 58...</td>\n",
       "      <td>[0.11929, 0.39309, 0.65603, 0.91083, 1.17222, ...</td>\n",
       "      <td>NaN</td>\n",
       "    </tr>\n",
       "    <tr>\n",
       "      <th>4</th>\n",
       "      <td>Zip-A-Dee-Doo-Dah (Song of the South)</td>\n",
       "      <td>Orlando Pops Orchestra</td>\n",
       "      <td>AR9HQ6Y1187FB3C2CB</td>\n",
       "      <td>SOGSOUE12A58A76443</td>\n",
       "      <td>0.0</td>\n",
       "      <td>199.99302</td>\n",
       "      <td>0.0</td>\n",
       "      <td>0.000</td>\n",
       "      <td>10</td>\n",
       "      <td>-16.477</td>\n",
       "      <td>...</td>\n",
       "      <td>4</td>\n",
       "      <td>[0.99301, 2.99441, 4.96889, 6.9402, 8.92127, 1...</td>\n",
       "      <td>[0.49266, 0.99301, 1.49336, 1.99371, 2.49406, ...</td>\n",
       "      <td>[0.0, 0.3166, 0.82195, 1.2751, 1.80871, 2.3314...</td>\n",
       "      <td>[0.0, 8.42605, 32.81331, 64.19633, 74.73863, 1...</td>\n",
       "      <td>[-35.258, -31.204, -28.303, -26.411, -28.011, ...</td>\n",
       "      <td>[[0.014, 0.014, 0.246, 0.037, 0.078, 0.322, 0....</td>\n",
       "      <td>[[10.095, 38.901, 84.505, -190.87, 59.787, 25....</td>\n",
       "      <td>[0.24248, 0.49266, 0.74283, 0.99301, 1.24318, ...</td>\n",
       "      <td>NaN</td>\n",
       "    </tr>\n",
       "  </tbody>\n",
       "</table>\n",
       "<p>5 rows × 23 columns</p>\n",
       "</div>"
      ],
      "text/plain": [
       "                                   title             artist_name  \\\n",
       "0         Je Sais Que La Terre Est Plate                 Raphaël   \n",
       "1                              On Efface           Julie Zenatti   \n",
       "2                        Howells Delight   The Baltimore Consort   \n",
       "3                          Martha Served            I Hate Sally   \n",
       "4  Zip-A-Dee-Doo-Dah (Song of the South)  Orlando Pops Orchestra   \n",
       "\n",
       "            artist_id             song_id  danceability   duration  energy  \\\n",
       "0  AREJXK41187B9A4ACC  SOGSMXL12A81C23D88           0.0  148.74077     0.0   \n",
       "1  AR2XRFQ1187FB417FE  SOMBCOW12AAF3B229F           0.0  252.99546     0.0   \n",
       "2  ARODOO01187FB44F4A  SOEYIHF12AB017B5F4           0.0   78.02730     0.0   \n",
       "3  ARJGW911187FB586CA  SODJYEC12A8C13D757           0.0  163.63057     0.0   \n",
       "4  AR9HQ6Y1187FB3C2CB  SOGSOUE12A58A76443           0.0  199.99302     0.0   \n",
       "\n",
       "   end_of_fade_in  key  loudness  ...  time_signature  \\\n",
       "0           0.192    0    -9.636  ...               4   \n",
       "1           0.514    1   -11.061  ...               4   \n",
       "2           0.974    3   -24.140  ...               4   \n",
       "3           0.000    7    -5.795  ...               3   \n",
       "4           0.000   10   -16.477  ...               4   \n",
       "\n",
       "                                 analysis/bars_start  \\\n",
       "0  [0.52458, 2.4444, 4.3658, 6.30006, 8.22086, 10...   \n",
       "1  [8.69527, 12.01758, 14.81363, 20.09003, 22.693...   \n",
       "2  [1.95344, 6.35701, 10.70579, 15.07913, 19.4832...   \n",
       "3  [0.39309, 2.75109, 5.13649, 7.52978, 9.95582, ...   \n",
       "4  [0.99301, 2.99441, 4.96889, 6.9402, 8.92127, 1...   \n",
       "\n",
       "                                analysis/beats_start  \\\n",
       "0  [0.04257, 0.52458, 1.00659, 1.48632, 1.96605, ...   \n",
       "1  [0.59161, 1.33555, 2.07949, 2.82093, 3.56238, ...   \n",
       "2  [1.95344, 3.0622, 4.16548, 5.26467, 6.35701, 7...   \n",
       "3  [0.39309, 1.17222, 1.95902, 2.75109, 3.55236, ...   \n",
       "4  [0.49266, 0.99301, 1.49336, 1.99371, 2.49406, ...   \n",
       "\n",
       "                             analysis/segments_start  \\\n",
       "0  [0.0, 0.19188, 0.60499, 0.84939, 1.10018, 1.36...   \n",
       "1  [0.0, 0.51379, 0.89138, 1.30912, 1.65297, 2.05...   \n",
       "2  [0.0, 0.97365, 1.34431, 1.81351, 2.19764, 2.44...   \n",
       "3  [0.0, 0.07306, 0.36862, 0.64739, 0.79238, 1.04...   \n",
       "4  [0.0, 0.3166, 0.82195, 1.2751, 1.80871, 2.3314...   \n",
       "\n",
       "                             analysis/sections_start  \\\n",
       "0  [0.0, 7.74174, 40.30707, 80.4797, 89.656, 127....   \n",
       "1  [0.0, 7.08047, 39.03442, 89.26989, 114.94898, ...   \n",
       "2                [0.0, 13.98322, 29.36585, 42.60077]   \n",
       "3  [0.0, 8.33166, 37.94071, 63.53617, 82.18998, 9...   \n",
       "4  [0.0, 8.42605, 32.81331, 64.19633, 74.73863, 1...   \n",
       "\n",
       "                      analysis/segments_loudness_max  \\\n",
       "0  [-60.0, -52.849, -42.59, -41.542, -32.881, -34...   \n",
       "1  [-59.854, -31.966, -33.722, -34.887, -36.92, -...   \n",
       "2  [-57.038, -34.87, -27.931, -27.929, -26.243, -...   \n",
       "3  [-41.332, -7.537, -9.059, -9.55, -8.652, -9.24...   \n",
       "4  [-35.258, -31.204, -28.303, -26.411, -28.011, ...   \n",
       "\n",
       "                           analysis/segments_pitches  \\\n",
       "0  [[0.726, 0.112, 0.02, 0.019, 0.01, 0.038, 0.03...   \n",
       "1  [[0.943, 1.0, 0.91, 0.782, 0.726, 0.806, 0.314...   \n",
       "2  [[1.0, 0.926, 0.264, 0.384, 0.298, 0.261, 0.22...   \n",
       "3  [[0.835, 0.639, 0.492, 0.399, 0.326, 0.697, 0....   \n",
       "4  [[0.014, 0.014, 0.246, 0.037, 0.078, 0.322, 0....   \n",
       "\n",
       "                            analysis/segments_timbre  \\\n",
       "0  [[0.0, 171.13, 9.469, -28.48, 57.491, -50.067,...   \n",
       "1  [[0.008, 170.986, 9.126, -28.685, 57.183, -50....   \n",
       "2  [[1.337, 145.247, -43.274, -47.807, 18.519, -4...   \n",
       "3  [[14.832, -56.33, 69.981, -43.028, 138.861, 58...   \n",
       "4  [[10.095, 38.901, 84.505, -190.87, 59.787, 25....   \n",
       "\n",
       "                               analysis/tatums_start mbtag  \n",
       "0  [0.04257, 0.28357, 0.52458, 0.76558, 1.00659, ...   NaN  \n",
       "1  [0.59161, 0.84042, 1.08799, 1.33555, 1.58436, ...   NaN  \n",
       "2  [1.11537, 1.39701, 1.67864, 1.95344, 2.23097, ...   NaN  \n",
       "3  [0.11929, 0.39309, 0.65603, 0.91083, 1.17222, ...   NaN  \n",
       "4  [0.24248, 0.49266, 0.74283, 0.99301, 1.24318, ...   NaN  \n",
       "\n",
       "[5 rows x 23 columns]"
      ]
     },
     "execution_count": 10,
     "metadata": {},
     "output_type": "execute_result"
    }
   ],
   "source": [
    "data.head()"
   ]
  },
  {
   "cell_type": "code",
   "execution_count": 11,
   "metadata": {},
   "outputs": [
    {
     "data": {
      "text/plain": [
       "Index(['title', 'artist_name', 'artist_id', 'danceability', 'duration',\n",
       "       'energy', 'end_of_fade_in', 'key', 'loudness', 'mode',\n",
       "       'start_of_fade_out', 'tempo', 'time_signature', 'analysis/bars_start',\n",
       "       'analysis/beats_start', 'analysis/segments_start',\n",
       "       'analysis/sections_start', 'analysis/segments_loudness_max',\n",
       "       'analysis/segments_pitches', 'analysis/segments_timbre',\n",
       "       'analysis/tatums_start', 'mbtag'],\n",
       "      dtype='object')"
      ]
     },
     "execution_count": 11,
     "metadata": {},
     "output_type": "execute_result"
    }
   ],
   "source": [
    "tagged_data = data.dropna(subset=['mbtag']).set_index('song_id')\n",
    "tagged_data.columns"
   ]
  },
  {
   "cell_type": "code",
   "execution_count": 12,
   "metadata": {},
   "outputs": [
    {
     "data": {
      "text/html": [
       "<div>\n",
       "<style scoped>\n",
       "    .dataframe tbody tr th:only-of-type {\n",
       "        vertical-align: middle;\n",
       "    }\n",
       "\n",
       "    .dataframe tbody tr th {\n",
       "        vertical-align: top;\n",
       "    }\n",
       "\n",
       "    .dataframe thead th {\n",
       "        text-align: right;\n",
       "    }\n",
       "</style>\n",
       "<table border=\"1\" class=\"dataframe\">\n",
       "  <thead>\n",
       "    <tr style=\"text-align: right;\">\n",
       "      <th></th>\n",
       "      <th>title</th>\n",
       "      <th>artist_name</th>\n",
       "      <th>artist_id</th>\n",
       "      <th>danceability</th>\n",
       "      <th>duration</th>\n",
       "      <th>energy</th>\n",
       "      <th>end_of_fade_in</th>\n",
       "      <th>key</th>\n",
       "      <th>loudness</th>\n",
       "      <th>mode</th>\n",
       "      <th>...</th>\n",
       "      <th>time_signature</th>\n",
       "      <th>analysis/bars_start</th>\n",
       "      <th>analysis/beats_start</th>\n",
       "      <th>analysis/segments_start</th>\n",
       "      <th>analysis/sections_start</th>\n",
       "      <th>analysis/segments_loudness_max</th>\n",
       "      <th>analysis/segments_pitches</th>\n",
       "      <th>analysis/segments_timbre</th>\n",
       "      <th>analysis/tatums_start</th>\n",
       "      <th>mbtag</th>\n",
       "    </tr>\n",
       "    <tr>\n",
       "      <th>song_id</th>\n",
       "      <th></th>\n",
       "      <th></th>\n",
       "      <th></th>\n",
       "      <th></th>\n",
       "      <th></th>\n",
       "      <th></th>\n",
       "      <th></th>\n",
       "      <th></th>\n",
       "      <th></th>\n",
       "      <th></th>\n",
       "      <th></th>\n",
       "      <th></th>\n",
       "      <th></th>\n",
       "      <th></th>\n",
       "      <th></th>\n",
       "      <th></th>\n",
       "      <th></th>\n",
       "      <th></th>\n",
       "      <th></th>\n",
       "      <th></th>\n",
       "      <th></th>\n",
       "    </tr>\n",
       "  </thead>\n",
       "  <tbody>\n",
       "    <tr>\n",
       "      <th>SOVVDCO12AB0187AF7</th>\n",
       "      <td>Liquid Time (composition by John Goodsall)</td>\n",
       "      <td>Brand X</td>\n",
       "      <td>ARDPTGD1187B9AD361</td>\n",
       "      <td>0.0</td>\n",
       "      <td>279.35302</td>\n",
       "      <td>0.0</td>\n",
       "      <td>0.433</td>\n",
       "      <td>9</td>\n",
       "      <td>-12.474</td>\n",
       "      <td>1</td>\n",
       "      <td>...</td>\n",
       "      <td>4</td>\n",
       "      <td>[0.86028, 3.32671, 5.78675, 8.25191, 10.70588,...</td>\n",
       "      <td>[0.26495, 0.86028, 1.47917, 2.10185, 2.71162, ...</td>\n",
       "      <td>[0.0, 0.43252, 0.60086, 0.94916, 1.34971, 2.02...</td>\n",
       "      <td>[0.0, 20.4191, 60.63045, 97.02151, 152.90716, ...</td>\n",
       "      <td>[-60.0, -33.028, -25.443, -42.479, -15.58, -17...</td>\n",
       "      <td>[[0.253, 0.295, 0.256, 0.255, 0.365, 0.256, 0....</td>\n",
       "      <td>[[0.0, 171.13, 9.469, -28.48, 57.491, -50.067,...</td>\n",
       "      <td>[0.11365, 0.26495, 0.41625, 0.56755, 0.71126, ...</td>\n",
       "      <td>[fusion, jazz fusion, classic pop and rock]</td>\n",
       "    </tr>\n",
       "    <tr>\n",
       "      <th>SOKSZVC12A8C142004</th>\n",
       "      <td>Misery Path (From the Privilege of Evil)</td>\n",
       "      <td>Amorphis</td>\n",
       "      <td>ARV8T9T1187B99F3F4</td>\n",
       "      <td>0.0</td>\n",
       "      <td>255.03302</td>\n",
       "      <td>0.0</td>\n",
       "      <td>0.449</td>\n",
       "      <td>9</td>\n",
       "      <td>-4.393</td>\n",
       "      <td>1</td>\n",
       "      <td>...</td>\n",
       "      <td>4</td>\n",
       "      <td>[1.1801, 2.5338, 3.8774, 5.21764, 6.50406, 7.8...</td>\n",
       "      <td>[0.50326, 0.84168, 1.1801, 1.51853, 1.86368, 2...</td>\n",
       "      <td>[0.0, 0.44893, 0.56481, 0.81737, 0.90463, 1.40...</td>\n",
       "      <td>[0.0, 18.94707, 37.60065, 50.59071, 82.07264, ...</td>\n",
       "      <td>[-59.127, -55.639, -30.079, -20.537, -5.212, -...</td>\n",
       "      <td>[[0.818, 1.0, 0.803, 0.887, 0.758, 0.796, 0.76...</td>\n",
       "      <td>[[0.0, 171.13, 9.469, -28.48, 57.491, -50.067,...</td>\n",
       "      <td>[0.50326, 0.84168, 1.1801, 1.51853, 1.86368, 2...</td>\n",
       "      <td>[finnish]</td>\n",
       "    </tr>\n",
       "    <tr>\n",
       "      <th>SOZQSGL12AF72A9145</th>\n",
       "      <td>Halloween</td>\n",
       "      <td>Dead Kennedys</td>\n",
       "      <td>AR050VJ1187B9B13A7</td>\n",
       "      <td>0.0</td>\n",
       "      <td>216.84200</td>\n",
       "      <td>0.0</td>\n",
       "      <td>0.000</td>\n",
       "      <td>10</td>\n",
       "      <td>-4.264</td>\n",
       "      <td>1</td>\n",
       "      <td>...</td>\n",
       "      <td>4</td>\n",
       "      <td>[1.04773, 3.659, 6.31974, 8.97532, 11.61875, 1...</td>\n",
       "      <td>[0.39241, 1.04773, 1.69575, 2.34571, 3.00003, ...</td>\n",
       "      <td>[0.0, 0.19837, 0.49914, 0.85873, 1.01193, 1.17...</td>\n",
       "      <td>[0.0, 6.98708, 31.7588, 55.79356, 71.87843, 10...</td>\n",
       "      <td>[-23.305, -22.35, -22.875, -28.333, -20.214, -...</td>\n",
       "      <td>[[0.146, 0.203, 0.219, 0.209, 0.172, 0.123, 0....</td>\n",
       "      <td>[[23.928, -119.362, 33.96, -122.038, 8.715, 18...</td>\n",
       "      <td>[0.06784, 0.23214, 0.39241, 0.5559, 0.7194, 0....</td>\n",
       "      <td>[punk, california, san francisco, rock and ind...</td>\n",
       "    </tr>\n",
       "    <tr>\n",
       "      <th>SOBHQIJ12A6D4FC7D3</th>\n",
       "      <td>Spoonie Is Back</td>\n",
       "      <td>Spoonie Gee</td>\n",
       "      <td>ARB2M051187FB56FA9</td>\n",
       "      <td>0.0</td>\n",
       "      <td>393.63873</td>\n",
       "      <td>0.0</td>\n",
       "      <td>0.179</td>\n",
       "      <td>1</td>\n",
       "      <td>-6.619</td>\n",
       "      <td>1</td>\n",
       "      <td>...</td>\n",
       "      <td>5</td>\n",
       "      <td>[1.53651, 3.73492, 5.93365, 8.15439, 10.3851, ...</td>\n",
       "      <td>[0.21007, 0.65246, 1.09485, 1.53651, 1.98112, ...</td>\n",
       "      <td>[0.0, 0.17891, 0.33379, 0.61823, 0.90853, 1.05...</td>\n",
       "      <td>[0.0, 13.03524, 69.72052, 99.80305, 112.67158,...</td>\n",
       "      <td>[-60.0, -15.641, -7.938, -7.652, -9.136, -10.3...</td>\n",
       "      <td>[[1.0, 0.284, 0.224, 0.217, 0.245, 0.285, 0.38...</td>\n",
       "      <td>[[0.0, 171.13, 9.469, -28.48, 57.491, -50.067,...</td>\n",
       "      <td>[0.0626, 0.21007, 0.35753, 0.505, 0.65246, 0.7...</td>\n",
       "      <td>[old school hip-hop, hip-hop, american, rock a...</td>\n",
       "    </tr>\n",
       "    <tr>\n",
       "      <th>SODENZR12AAF3B13B9</th>\n",
       "      <td>Blood Round Dance Song (World)</td>\n",
       "      <td>R. Carlos Nakai</td>\n",
       "      <td>AREJ5K11187B993F5F</td>\n",
       "      <td>0.0</td>\n",
       "      <td>146.33751</td>\n",
       "      <td>0.0</td>\n",
       "      <td>0.347</td>\n",
       "      <td>1</td>\n",
       "      <td>-25.651</td>\n",
       "      <td>0</td>\n",
       "      <td>...</td>\n",
       "      <td>1</td>\n",
       "      <td>[0.09527, 0.70899, 1.3226, 1.93617, 2.55139, 3...</td>\n",
       "      <td>[0.09527, 0.70899, 1.3226, 1.93617, 2.55139, 3...</td>\n",
       "      <td>[0.0, 0.34676, 0.61247, 0.70635, 0.87283, 1.22...</td>\n",
       "      <td>[0.0, 8.5233, 32.22853, 49.1158, 61.85519, 75....</td>\n",
       "      <td>[-60.0, -26.53, -27.841, -23.783, -24.037, -32...</td>\n",
       "      <td>[[0.203, 0.125, 0.086, 0.095, 0.088, 0.266, 0....</td>\n",
       "      <td>[[0.0, 171.13, 9.469, -28.48, 57.491, -50.067,...</td>\n",
       "      <td>[0.09527, 0.4029, 0.70899, 1.0228, 1.3226, 1.6...</td>\n",
       "      <td>[folk]</td>\n",
       "    </tr>\n",
       "  </tbody>\n",
       "</table>\n",
       "<p>5 rows × 22 columns</p>\n",
       "</div>"
      ],
      "text/plain": [
       "                                                         title  \\\n",
       "song_id                                                          \n",
       "SOVVDCO12AB0187AF7  Liquid Time (composition by John Goodsall)   \n",
       "SOKSZVC12A8C142004    Misery Path (From the Privilege of Evil)   \n",
       "SOZQSGL12AF72A9145                                   Halloween   \n",
       "SOBHQIJ12A6D4FC7D3                             Spoonie Is Back   \n",
       "SODENZR12AAF3B13B9              Blood Round Dance Song (World)   \n",
       "\n",
       "                        artist_name           artist_id  danceability  \\\n",
       "song_id                                                                 \n",
       "SOVVDCO12AB0187AF7          Brand X  ARDPTGD1187B9AD361           0.0   \n",
       "SOKSZVC12A8C142004         Amorphis  ARV8T9T1187B99F3F4           0.0   \n",
       "SOZQSGL12AF72A9145    Dead Kennedys  AR050VJ1187B9B13A7           0.0   \n",
       "SOBHQIJ12A6D4FC7D3      Spoonie Gee  ARB2M051187FB56FA9           0.0   \n",
       "SODENZR12AAF3B13B9  R. Carlos Nakai  AREJ5K11187B993F5F           0.0   \n",
       "\n",
       "                     duration  energy  end_of_fade_in  key  loudness  mode  \\\n",
       "song_id                                                                      \n",
       "SOVVDCO12AB0187AF7  279.35302     0.0           0.433    9   -12.474     1   \n",
       "SOKSZVC12A8C142004  255.03302     0.0           0.449    9    -4.393     1   \n",
       "SOZQSGL12AF72A9145  216.84200     0.0           0.000   10    -4.264     1   \n",
       "SOBHQIJ12A6D4FC7D3  393.63873     0.0           0.179    1    -6.619     1   \n",
       "SODENZR12AAF3B13B9  146.33751     0.0           0.347    1   -25.651     0   \n",
       "\n",
       "                    ...  time_signature  \\\n",
       "song_id             ...                   \n",
       "SOVVDCO12AB0187AF7  ...               4   \n",
       "SOKSZVC12A8C142004  ...               4   \n",
       "SOZQSGL12AF72A9145  ...               4   \n",
       "SOBHQIJ12A6D4FC7D3  ...               5   \n",
       "SODENZR12AAF3B13B9  ...               1   \n",
       "\n",
       "                                                  analysis/bars_start  \\\n",
       "song_id                                                                 \n",
       "SOVVDCO12AB0187AF7  [0.86028, 3.32671, 5.78675, 8.25191, 10.70588,...   \n",
       "SOKSZVC12A8C142004  [1.1801, 2.5338, 3.8774, 5.21764, 6.50406, 7.8...   \n",
       "SOZQSGL12AF72A9145  [1.04773, 3.659, 6.31974, 8.97532, 11.61875, 1...   \n",
       "SOBHQIJ12A6D4FC7D3  [1.53651, 3.73492, 5.93365, 8.15439, 10.3851, ...   \n",
       "SODENZR12AAF3B13B9  [0.09527, 0.70899, 1.3226, 1.93617, 2.55139, 3...   \n",
       "\n",
       "                                                 analysis/beats_start  \\\n",
       "song_id                                                                 \n",
       "SOVVDCO12AB0187AF7  [0.26495, 0.86028, 1.47917, 2.10185, 2.71162, ...   \n",
       "SOKSZVC12A8C142004  [0.50326, 0.84168, 1.1801, 1.51853, 1.86368, 2...   \n",
       "SOZQSGL12AF72A9145  [0.39241, 1.04773, 1.69575, 2.34571, 3.00003, ...   \n",
       "SOBHQIJ12A6D4FC7D3  [0.21007, 0.65246, 1.09485, 1.53651, 1.98112, ...   \n",
       "SODENZR12AAF3B13B9  [0.09527, 0.70899, 1.3226, 1.93617, 2.55139, 3...   \n",
       "\n",
       "                                              analysis/segments_start  \\\n",
       "song_id                                                                 \n",
       "SOVVDCO12AB0187AF7  [0.0, 0.43252, 0.60086, 0.94916, 1.34971, 2.02...   \n",
       "SOKSZVC12A8C142004  [0.0, 0.44893, 0.56481, 0.81737, 0.90463, 1.40...   \n",
       "SOZQSGL12AF72A9145  [0.0, 0.19837, 0.49914, 0.85873, 1.01193, 1.17...   \n",
       "SOBHQIJ12A6D4FC7D3  [0.0, 0.17891, 0.33379, 0.61823, 0.90853, 1.05...   \n",
       "SODENZR12AAF3B13B9  [0.0, 0.34676, 0.61247, 0.70635, 0.87283, 1.22...   \n",
       "\n",
       "                                              analysis/sections_start  \\\n",
       "song_id                                                                 \n",
       "SOVVDCO12AB0187AF7  [0.0, 20.4191, 60.63045, 97.02151, 152.90716, ...   \n",
       "SOKSZVC12A8C142004  [0.0, 18.94707, 37.60065, 50.59071, 82.07264, ...   \n",
       "SOZQSGL12AF72A9145  [0.0, 6.98708, 31.7588, 55.79356, 71.87843, 10...   \n",
       "SOBHQIJ12A6D4FC7D3  [0.0, 13.03524, 69.72052, 99.80305, 112.67158,...   \n",
       "SODENZR12AAF3B13B9  [0.0, 8.5233, 32.22853, 49.1158, 61.85519, 75....   \n",
       "\n",
       "                                       analysis/segments_loudness_max  \\\n",
       "song_id                                                                 \n",
       "SOVVDCO12AB0187AF7  [-60.0, -33.028, -25.443, -42.479, -15.58, -17...   \n",
       "SOKSZVC12A8C142004  [-59.127, -55.639, -30.079, -20.537, -5.212, -...   \n",
       "SOZQSGL12AF72A9145  [-23.305, -22.35, -22.875, -28.333, -20.214, -...   \n",
       "SOBHQIJ12A6D4FC7D3  [-60.0, -15.641, -7.938, -7.652, -9.136, -10.3...   \n",
       "SODENZR12AAF3B13B9  [-60.0, -26.53, -27.841, -23.783, -24.037, -32...   \n",
       "\n",
       "                                            analysis/segments_pitches  \\\n",
       "song_id                                                                 \n",
       "SOVVDCO12AB0187AF7  [[0.253, 0.295, 0.256, 0.255, 0.365, 0.256, 0....   \n",
       "SOKSZVC12A8C142004  [[0.818, 1.0, 0.803, 0.887, 0.758, 0.796, 0.76...   \n",
       "SOZQSGL12AF72A9145  [[0.146, 0.203, 0.219, 0.209, 0.172, 0.123, 0....   \n",
       "SOBHQIJ12A6D4FC7D3  [[1.0, 0.284, 0.224, 0.217, 0.245, 0.285, 0.38...   \n",
       "SODENZR12AAF3B13B9  [[0.203, 0.125, 0.086, 0.095, 0.088, 0.266, 0....   \n",
       "\n",
       "                                             analysis/segments_timbre  \\\n",
       "song_id                                                                 \n",
       "SOVVDCO12AB0187AF7  [[0.0, 171.13, 9.469, -28.48, 57.491, -50.067,...   \n",
       "SOKSZVC12A8C142004  [[0.0, 171.13, 9.469, -28.48, 57.491, -50.067,...   \n",
       "SOZQSGL12AF72A9145  [[23.928, -119.362, 33.96, -122.038, 8.715, 18...   \n",
       "SOBHQIJ12A6D4FC7D3  [[0.0, 171.13, 9.469, -28.48, 57.491, -50.067,...   \n",
       "SODENZR12AAF3B13B9  [[0.0, 171.13, 9.469, -28.48, 57.491, -50.067,...   \n",
       "\n",
       "                                                analysis/tatums_start  \\\n",
       "song_id                                                                 \n",
       "SOVVDCO12AB0187AF7  [0.11365, 0.26495, 0.41625, 0.56755, 0.71126, ...   \n",
       "SOKSZVC12A8C142004  [0.50326, 0.84168, 1.1801, 1.51853, 1.86368, 2...   \n",
       "SOZQSGL12AF72A9145  [0.06784, 0.23214, 0.39241, 0.5559, 0.7194, 0....   \n",
       "SOBHQIJ12A6D4FC7D3  [0.0626, 0.21007, 0.35753, 0.505, 0.65246, 0.7...   \n",
       "SODENZR12AAF3B13B9  [0.09527, 0.4029, 0.70899, 1.0228, 1.3226, 1.6...   \n",
       "\n",
       "                                                                mbtag  \n",
       "song_id                                                                \n",
       "SOVVDCO12AB0187AF7        [fusion, jazz fusion, classic pop and rock]  \n",
       "SOKSZVC12A8C142004                                          [finnish]  \n",
       "SOZQSGL12AF72A9145  [punk, california, san francisco, rock and ind...  \n",
       "SOBHQIJ12A6D4FC7D3  [old school hip-hop, hip-hop, american, rock a...  \n",
       "SODENZR12AAF3B13B9                                             [folk]  \n",
       "\n",
       "[5 rows x 22 columns]"
      ]
     },
     "execution_count": 12,
     "metadata": {},
     "output_type": "execute_result"
    }
   ],
   "source": [
    "tagged_data.head()"
   ]
  },
  {
   "cell_type": "markdown",
   "metadata": {},
   "source": [
    "### Dataset categories\n",
    "* Metadata\n",
    "* Music analysis data"
   ]
  },
  {
   "cell_type": "code",
   "execution_count": 13,
   "metadata": {},
   "outputs": [],
   "source": [
    "metadata_cols = ['duration', 'end_of_fade_in', 'key', 'loudness', 'mode', 'start_of_fade_out', 'tempo', 'time_signature']\n",
    "music_analysis_cols = ['analysis/bars_start', 'analysis/beats_start', 'analysis/segments_start', 'analysis/sections_start', 'analysis/segments_loudness_max', 'analysis/segments_pitches', 'analysis/segments_timbre', 'analysis/tatums_start']\n"
   ]
  },
  {
   "cell_type": "code",
   "execution_count": 14,
   "metadata": {},
   "outputs": [
    {
     "data": {
      "text/html": [
       "<div>\n",
       "<style scoped>\n",
       "    .dataframe tbody tr th:only-of-type {\n",
       "        vertical-align: middle;\n",
       "    }\n",
       "\n",
       "    .dataframe tbody tr th {\n",
       "        vertical-align: top;\n",
       "    }\n",
       "\n",
       "    .dataframe thead th {\n",
       "        text-align: right;\n",
       "    }\n",
       "</style>\n",
       "<table border=\"1\" class=\"dataframe\">\n",
       "  <thead>\n",
       "    <tr style=\"text-align: right;\">\n",
       "      <th></th>\n",
       "      <th>duration</th>\n",
       "      <th>end_of_fade_in</th>\n",
       "      <th>key</th>\n",
       "      <th>loudness</th>\n",
       "      <th>mode</th>\n",
       "      <th>start_of_fade_out</th>\n",
       "      <th>tempo</th>\n",
       "      <th>time_signature</th>\n",
       "    </tr>\n",
       "    <tr>\n",
       "      <th>song_id</th>\n",
       "      <th></th>\n",
       "      <th></th>\n",
       "      <th></th>\n",
       "      <th></th>\n",
       "      <th></th>\n",
       "      <th></th>\n",
       "      <th></th>\n",
       "      <th></th>\n",
       "    </tr>\n",
       "  </thead>\n",
       "  <tbody>\n",
       "    <tr>\n",
       "      <th>SOVVDCO12AB0187AF7</th>\n",
       "      <td>279.35302</td>\n",
       "      <td>0.433</td>\n",
       "      <td>9</td>\n",
       "      <td>-12.474</td>\n",
       "      <td>1</td>\n",
       "      <td>261.288</td>\n",
       "      <td>99.024</td>\n",
       "      <td>4</td>\n",
       "    </tr>\n",
       "    <tr>\n",
       "      <th>SOKSZVC12A8C142004</th>\n",
       "      <td>255.03302</td>\n",
       "      <td>0.449</td>\n",
       "      <td>9</td>\n",
       "      <td>-4.393</td>\n",
       "      <td>1</td>\n",
       "      <td>251.275</td>\n",
       "      <td>175.673</td>\n",
       "      <td>4</td>\n",
       "    </tr>\n",
       "    <tr>\n",
       "      <th>SOZQSGL12AF72A9145</th>\n",
       "      <td>216.84200</td>\n",
       "      <td>0.000</td>\n",
       "      <td>10</td>\n",
       "      <td>-4.264</td>\n",
       "      <td>1</td>\n",
       "      <td>213.020</td>\n",
       "      <td>92.897</td>\n",
       "      <td>4</td>\n",
       "    </tr>\n",
       "    <tr>\n",
       "      <th>SOBHQIJ12A6D4FC7D3</th>\n",
       "      <td>393.63873</td>\n",
       "      <td>0.179</td>\n",
       "      <td>1</td>\n",
       "      <td>-6.619</td>\n",
       "      <td>1</td>\n",
       "      <td>379.478</td>\n",
       "      <td>135.503</td>\n",
       "      <td>5</td>\n",
       "    </tr>\n",
       "    <tr>\n",
       "      <th>SODENZR12AAF3B13B9</th>\n",
       "      <td>146.33751</td>\n",
       "      <td>0.347</td>\n",
       "      <td>1</td>\n",
       "      <td>-25.651</td>\n",
       "      <td>0</td>\n",
       "      <td>137.143</td>\n",
       "      <td>104.989</td>\n",
       "      <td>1</td>\n",
       "    </tr>\n",
       "  </tbody>\n",
       "</table>\n",
       "</div>"
      ],
      "text/plain": [
       "                     duration  end_of_fade_in  key  loudness  mode  \\\n",
       "song_id                                                              \n",
       "SOVVDCO12AB0187AF7  279.35302           0.433    9   -12.474     1   \n",
       "SOKSZVC12A8C142004  255.03302           0.449    9    -4.393     1   \n",
       "SOZQSGL12AF72A9145  216.84200           0.000   10    -4.264     1   \n",
       "SOBHQIJ12A6D4FC7D3  393.63873           0.179    1    -6.619     1   \n",
       "SODENZR12AAF3B13B9  146.33751           0.347    1   -25.651     0   \n",
       "\n",
       "                    start_of_fade_out    tempo  time_signature  \n",
       "song_id                                                         \n",
       "SOVVDCO12AB0187AF7            261.288   99.024               4  \n",
       "SOKSZVC12A8C142004            251.275  175.673               4  \n",
       "SOZQSGL12AF72A9145            213.020   92.897               4  \n",
       "SOBHQIJ12A6D4FC7D3            379.478  135.503               5  \n",
       "SODENZR12AAF3B13B9            137.143  104.989               1  "
      ]
     },
     "execution_count": 14,
     "metadata": {},
     "output_type": "execute_result"
    }
   ],
   "source": [
    "metadata = tagged_data[metadata_cols]\n",
    "metadata.head()"
   ]
  },
  {
   "cell_type": "code",
   "execution_count": 15,
   "metadata": {},
   "outputs": [
    {
     "data": {
      "text/html": [
       "<div>\n",
       "<style scoped>\n",
       "    .dataframe tbody tr th:only-of-type {\n",
       "        vertical-align: middle;\n",
       "    }\n",
       "\n",
       "    .dataframe tbody tr th {\n",
       "        vertical-align: top;\n",
       "    }\n",
       "\n",
       "    .dataframe thead th {\n",
       "        text-align: right;\n",
       "    }\n",
       "</style>\n",
       "<table border=\"1\" class=\"dataframe\">\n",
       "  <thead>\n",
       "    <tr style=\"text-align: right;\">\n",
       "      <th></th>\n",
       "      <th>analysis/bars_start</th>\n",
       "      <th>analysis/beats_start</th>\n",
       "      <th>analysis/segments_start</th>\n",
       "      <th>analysis/sections_start</th>\n",
       "      <th>analysis/segments_loudness_max</th>\n",
       "      <th>analysis/segments_pitches</th>\n",
       "      <th>analysis/segments_timbre</th>\n",
       "      <th>analysis/tatums_start</th>\n",
       "    </tr>\n",
       "    <tr>\n",
       "      <th>song_id</th>\n",
       "      <th></th>\n",
       "      <th></th>\n",
       "      <th></th>\n",
       "      <th></th>\n",
       "      <th></th>\n",
       "      <th></th>\n",
       "      <th></th>\n",
       "      <th></th>\n",
       "    </tr>\n",
       "  </thead>\n",
       "  <tbody>\n",
       "    <tr>\n",
       "      <th>SOVVDCO12AB0187AF7</th>\n",
       "      <td>[0.86028, 3.32671, 5.78675, 8.25191, 10.70588,...</td>\n",
       "      <td>[0.26495, 0.86028, 1.47917, 2.10185, 2.71162, ...</td>\n",
       "      <td>[0.0, 0.43252, 0.60086, 0.94916, 1.34971, 2.02...</td>\n",
       "      <td>[0.0, 20.4191, 60.63045, 97.02151, 152.90716, ...</td>\n",
       "      <td>[-60.0, -33.028, -25.443, -42.479, -15.58, -17...</td>\n",
       "      <td>[[0.253, 0.295, 0.256, 0.255, 0.365, 0.256, 0....</td>\n",
       "      <td>[[0.0, 171.13, 9.469, -28.48, 57.491, -50.067,...</td>\n",
       "      <td>[0.11365, 0.26495, 0.41625, 0.56755, 0.71126, ...</td>\n",
       "    </tr>\n",
       "    <tr>\n",
       "      <th>SOKSZVC12A8C142004</th>\n",
       "      <td>[1.1801, 2.5338, 3.8774, 5.21764, 6.50406, 7.8...</td>\n",
       "      <td>[0.50326, 0.84168, 1.1801, 1.51853, 1.86368, 2...</td>\n",
       "      <td>[0.0, 0.44893, 0.56481, 0.81737, 0.90463, 1.40...</td>\n",
       "      <td>[0.0, 18.94707, 37.60065, 50.59071, 82.07264, ...</td>\n",
       "      <td>[-59.127, -55.639, -30.079, -20.537, -5.212, -...</td>\n",
       "      <td>[[0.818, 1.0, 0.803, 0.887, 0.758, 0.796, 0.76...</td>\n",
       "      <td>[[0.0, 171.13, 9.469, -28.48, 57.491, -50.067,...</td>\n",
       "      <td>[0.50326, 0.84168, 1.1801, 1.51853, 1.86368, 2...</td>\n",
       "    </tr>\n",
       "    <tr>\n",
       "      <th>SOZQSGL12AF72A9145</th>\n",
       "      <td>[1.04773, 3.659, 6.31974, 8.97532, 11.61875, 1...</td>\n",
       "      <td>[0.39241, 1.04773, 1.69575, 2.34571, 3.00003, ...</td>\n",
       "      <td>[0.0, 0.19837, 0.49914, 0.85873, 1.01193, 1.17...</td>\n",
       "      <td>[0.0, 6.98708, 31.7588, 55.79356, 71.87843, 10...</td>\n",
       "      <td>[-23.305, -22.35, -22.875, -28.333, -20.214, -...</td>\n",
       "      <td>[[0.146, 0.203, 0.219, 0.209, 0.172, 0.123, 0....</td>\n",
       "      <td>[[23.928, -119.362, 33.96, -122.038, 8.715, 18...</td>\n",
       "      <td>[0.06784, 0.23214, 0.39241, 0.5559, 0.7194, 0....</td>\n",
       "    </tr>\n",
       "    <tr>\n",
       "      <th>SOBHQIJ12A6D4FC7D3</th>\n",
       "      <td>[1.53651, 3.73492, 5.93365, 8.15439, 10.3851, ...</td>\n",
       "      <td>[0.21007, 0.65246, 1.09485, 1.53651, 1.98112, ...</td>\n",
       "      <td>[0.0, 0.17891, 0.33379, 0.61823, 0.90853, 1.05...</td>\n",
       "      <td>[0.0, 13.03524, 69.72052, 99.80305, 112.67158,...</td>\n",
       "      <td>[-60.0, -15.641, -7.938, -7.652, -9.136, -10.3...</td>\n",
       "      <td>[[1.0, 0.284, 0.224, 0.217, 0.245, 0.285, 0.38...</td>\n",
       "      <td>[[0.0, 171.13, 9.469, -28.48, 57.491, -50.067,...</td>\n",
       "      <td>[0.0626, 0.21007, 0.35753, 0.505, 0.65246, 0.7...</td>\n",
       "    </tr>\n",
       "    <tr>\n",
       "      <th>SODENZR12AAF3B13B9</th>\n",
       "      <td>[0.09527, 0.70899, 1.3226, 1.93617, 2.55139, 3...</td>\n",
       "      <td>[0.09527, 0.70899, 1.3226, 1.93617, 2.55139, 3...</td>\n",
       "      <td>[0.0, 0.34676, 0.61247, 0.70635, 0.87283, 1.22...</td>\n",
       "      <td>[0.0, 8.5233, 32.22853, 49.1158, 61.85519, 75....</td>\n",
       "      <td>[-60.0, -26.53, -27.841, -23.783, -24.037, -32...</td>\n",
       "      <td>[[0.203, 0.125, 0.086, 0.095, 0.088, 0.266, 0....</td>\n",
       "      <td>[[0.0, 171.13, 9.469, -28.48, 57.491, -50.067,...</td>\n",
       "      <td>[0.09527, 0.4029, 0.70899, 1.0228, 1.3226, 1.6...</td>\n",
       "    </tr>\n",
       "  </tbody>\n",
       "</table>\n",
       "</div>"
      ],
      "text/plain": [
       "                                                  analysis/bars_start  \\\n",
       "song_id                                                                 \n",
       "SOVVDCO12AB0187AF7  [0.86028, 3.32671, 5.78675, 8.25191, 10.70588,...   \n",
       "SOKSZVC12A8C142004  [1.1801, 2.5338, 3.8774, 5.21764, 6.50406, 7.8...   \n",
       "SOZQSGL12AF72A9145  [1.04773, 3.659, 6.31974, 8.97532, 11.61875, 1...   \n",
       "SOBHQIJ12A6D4FC7D3  [1.53651, 3.73492, 5.93365, 8.15439, 10.3851, ...   \n",
       "SODENZR12AAF3B13B9  [0.09527, 0.70899, 1.3226, 1.93617, 2.55139, 3...   \n",
       "\n",
       "                                                 analysis/beats_start  \\\n",
       "song_id                                                                 \n",
       "SOVVDCO12AB0187AF7  [0.26495, 0.86028, 1.47917, 2.10185, 2.71162, ...   \n",
       "SOKSZVC12A8C142004  [0.50326, 0.84168, 1.1801, 1.51853, 1.86368, 2...   \n",
       "SOZQSGL12AF72A9145  [0.39241, 1.04773, 1.69575, 2.34571, 3.00003, ...   \n",
       "SOBHQIJ12A6D4FC7D3  [0.21007, 0.65246, 1.09485, 1.53651, 1.98112, ...   \n",
       "SODENZR12AAF3B13B9  [0.09527, 0.70899, 1.3226, 1.93617, 2.55139, 3...   \n",
       "\n",
       "                                              analysis/segments_start  \\\n",
       "song_id                                                                 \n",
       "SOVVDCO12AB0187AF7  [0.0, 0.43252, 0.60086, 0.94916, 1.34971, 2.02...   \n",
       "SOKSZVC12A8C142004  [0.0, 0.44893, 0.56481, 0.81737, 0.90463, 1.40...   \n",
       "SOZQSGL12AF72A9145  [0.0, 0.19837, 0.49914, 0.85873, 1.01193, 1.17...   \n",
       "SOBHQIJ12A6D4FC7D3  [0.0, 0.17891, 0.33379, 0.61823, 0.90853, 1.05...   \n",
       "SODENZR12AAF3B13B9  [0.0, 0.34676, 0.61247, 0.70635, 0.87283, 1.22...   \n",
       "\n",
       "                                              analysis/sections_start  \\\n",
       "song_id                                                                 \n",
       "SOVVDCO12AB0187AF7  [0.0, 20.4191, 60.63045, 97.02151, 152.90716, ...   \n",
       "SOKSZVC12A8C142004  [0.0, 18.94707, 37.60065, 50.59071, 82.07264, ...   \n",
       "SOZQSGL12AF72A9145  [0.0, 6.98708, 31.7588, 55.79356, 71.87843, 10...   \n",
       "SOBHQIJ12A6D4FC7D3  [0.0, 13.03524, 69.72052, 99.80305, 112.67158,...   \n",
       "SODENZR12AAF3B13B9  [0.0, 8.5233, 32.22853, 49.1158, 61.85519, 75....   \n",
       "\n",
       "                                       analysis/segments_loudness_max  \\\n",
       "song_id                                                                 \n",
       "SOVVDCO12AB0187AF7  [-60.0, -33.028, -25.443, -42.479, -15.58, -17...   \n",
       "SOKSZVC12A8C142004  [-59.127, -55.639, -30.079, -20.537, -5.212, -...   \n",
       "SOZQSGL12AF72A9145  [-23.305, -22.35, -22.875, -28.333, -20.214, -...   \n",
       "SOBHQIJ12A6D4FC7D3  [-60.0, -15.641, -7.938, -7.652, -9.136, -10.3...   \n",
       "SODENZR12AAF3B13B9  [-60.0, -26.53, -27.841, -23.783, -24.037, -32...   \n",
       "\n",
       "                                            analysis/segments_pitches  \\\n",
       "song_id                                                                 \n",
       "SOVVDCO12AB0187AF7  [[0.253, 0.295, 0.256, 0.255, 0.365, 0.256, 0....   \n",
       "SOKSZVC12A8C142004  [[0.818, 1.0, 0.803, 0.887, 0.758, 0.796, 0.76...   \n",
       "SOZQSGL12AF72A9145  [[0.146, 0.203, 0.219, 0.209, 0.172, 0.123, 0....   \n",
       "SOBHQIJ12A6D4FC7D3  [[1.0, 0.284, 0.224, 0.217, 0.245, 0.285, 0.38...   \n",
       "SODENZR12AAF3B13B9  [[0.203, 0.125, 0.086, 0.095, 0.088, 0.266, 0....   \n",
       "\n",
       "                                             analysis/segments_timbre  \\\n",
       "song_id                                                                 \n",
       "SOVVDCO12AB0187AF7  [[0.0, 171.13, 9.469, -28.48, 57.491, -50.067,...   \n",
       "SOKSZVC12A8C142004  [[0.0, 171.13, 9.469, -28.48, 57.491, -50.067,...   \n",
       "SOZQSGL12AF72A9145  [[23.928, -119.362, 33.96, -122.038, 8.715, 18...   \n",
       "SOBHQIJ12A6D4FC7D3  [[0.0, 171.13, 9.469, -28.48, 57.491, -50.067,...   \n",
       "SODENZR12AAF3B13B9  [[0.0, 171.13, 9.469, -28.48, 57.491, -50.067,...   \n",
       "\n",
       "                                                analysis/tatums_start  \n",
       "song_id                                                                \n",
       "SOVVDCO12AB0187AF7  [0.11365, 0.26495, 0.41625, 0.56755, 0.71126, ...  \n",
       "SOKSZVC12A8C142004  [0.50326, 0.84168, 1.1801, 1.51853, 1.86368, 2...  \n",
       "SOZQSGL12AF72A9145  [0.06784, 0.23214, 0.39241, 0.5559, 0.7194, 0....  \n",
       "SOBHQIJ12A6D4FC7D3  [0.0626, 0.21007, 0.35753, 0.505, 0.65246, 0.7...  \n",
       "SODENZR12AAF3B13B9  [0.09527, 0.4029, 0.70899, 1.0228, 1.3226, 1.6...  "
      ]
     },
     "execution_count": 15,
     "metadata": {},
     "output_type": "execute_result"
    }
   ],
   "source": [
    "music_analysis = tagged_data[music_analysis_cols]\n",
    "music_analysis.head()"
   ]
  },
  {
   "cell_type": "markdown",
   "metadata": {},
   "source": [
    "### Attempt 1: use multihot encoding to reduce label space dimensionality\n",
    "Convert each label to a multihot encoded vector, i.e. 1 represents a present label."
   ]
  },
  {
   "cell_type": "code",
   "execution_count": 16,
   "metadata": {},
   "outputs": [],
   "source": [
    "from util.encoding import encode_multihot, decode_multihot"
   ]
  },
  {
   "cell_type": "code",
   "execution_count": 17,
   "metadata": {},
   "outputs": [
    {
     "name": "stdout",
     "output_type": "stream",
     "text": [
      "Unique labels: 726\n"
     ]
    },
    {
     "data": {
      "text/html": [
       "<div>\n",
       "<style scoped>\n",
       "    .dataframe tbody tr th:only-of-type {\n",
       "        vertical-align: middle;\n",
       "    }\n",
       "\n",
       "    .dataframe tbody tr th {\n",
       "        vertical-align: top;\n",
       "    }\n",
       "\n",
       "    .dataframe thead th {\n",
       "        text-align: right;\n",
       "    }\n",
       "</style>\n",
       "<table border=\"1\" class=\"dataframe\">\n",
       "  <thead>\n",
       "    <tr style=\"text-align: right;\">\n",
       "      <th></th>\n",
       "      <th>mbtag</th>\n",
       "      <th>multi_hot</th>\n",
       "    </tr>\n",
       "    <tr>\n",
       "      <th>song_id</th>\n",
       "      <th></th>\n",
       "      <th></th>\n",
       "    </tr>\n",
       "  </thead>\n",
       "  <tbody>\n",
       "    <tr>\n",
       "      <th>SOVVDCO12AB0187AF7</th>\n",
       "      <td>[fusion, jazz fusion, classic pop and rock]</td>\n",
       "      <td>[0, 0, 0, 0, 0, 0, 0, 0, 0, 0, 0, 0, 0, 0, 0, ...</td>\n",
       "    </tr>\n",
       "    <tr>\n",
       "      <th>SOKSZVC12A8C142004</th>\n",
       "      <td>[finnish]</td>\n",
       "      <td>[0, 0, 0, 0, 0, 0, 0, 0, 0, 0, 0, 0, 0, 0, 0, ...</td>\n",
       "    </tr>\n",
       "    <tr>\n",
       "      <th>SOZQSGL12AF72A9145</th>\n",
       "      <td>[punk, california, san francisco, rock and ind...</td>\n",
       "      <td>[0, 0, 0, 0, 0, 0, 0, 0, 0, 0, 0, 0, 0, 0, 0, ...</td>\n",
       "    </tr>\n",
       "    <tr>\n",
       "      <th>SOBHQIJ12A6D4FC7D3</th>\n",
       "      <td>[old school hip-hop, hip-hop, american, rock a...</td>\n",
       "      <td>[0, 0, 0, 0, 0, 0, 0, 0, 0, 0, 0, 0, 0, 0, 0, ...</td>\n",
       "    </tr>\n",
       "    <tr>\n",
       "      <th>SODENZR12AAF3B13B9</th>\n",
       "      <td>[folk]</td>\n",
       "      <td>[0, 0, 0, 0, 0, 0, 0, 0, 0, 0, 0, 0, 0, 0, 0, ...</td>\n",
       "    </tr>\n",
       "    <tr>\n",
       "      <th>...</th>\n",
       "      <td>...</td>\n",
       "      <td>...</td>\n",
       "    </tr>\n",
       "    <tr>\n",
       "      <th>SOBPTED12A6D4F99C7</th>\n",
       "      <td>[british, soft rock, jazz, rock, adult contemp...</td>\n",
       "      <td>[0, 0, 0, 0, 0, 0, 0, 0, 0, 0, 0, 0, 0, 0, 0, ...</td>\n",
       "    </tr>\n",
       "    <tr>\n",
       "      <th>SOWVTAJ12A8C13C6D5</th>\n",
       "      <td>[classic pop and rock]</td>\n",
       "      <td>[0, 0, 0, 0, 0, 0, 0, 0, 0, 0, 0, 0, 0, 0, 0, ...</td>\n",
       "    </tr>\n",
       "    <tr>\n",
       "      <th>SONWLUL12A8C13AEEE</th>\n",
       "      <td>[soundtrack, american]</td>\n",
       "      <td>[0, 0, 0, 0, 0, 0, 0, 0, 0, 0, 0, 0, 0, 0, 0, ...</td>\n",
       "    </tr>\n",
       "    <tr>\n",
       "      <th>SOGMTCP12A58A81E46</th>\n",
       "      <td>[country, american, greatest hits]</td>\n",
       "      <td>[0, 0, 0, 0, 0, 0, 0, 0, 0, 0, 0, 0, 0, 0, 0, ...</td>\n",
       "    </tr>\n",
       "    <tr>\n",
       "      <th>SOIFMVY12A8AE467B1</th>\n",
       "      <td>[irish, rock, ireland, irlandais, classic pop ...</td>\n",
       "      <td>[0, 0, 0, 0, 0, 0, 0, 0, 0, 0, 0, 0, 0, 0, 0, ...</td>\n",
       "    </tr>\n",
       "  </tbody>\n",
       "</table>\n",
       "<p>3710 rows × 2 columns</p>\n",
       "</div>"
      ],
      "text/plain": [
       "                                                                mbtag  \\\n",
       "song_id                                                                 \n",
       "SOVVDCO12AB0187AF7        [fusion, jazz fusion, classic pop and rock]   \n",
       "SOKSZVC12A8C142004                                          [finnish]   \n",
       "SOZQSGL12AF72A9145  [punk, california, san francisco, rock and ind...   \n",
       "SOBHQIJ12A6D4FC7D3  [old school hip-hop, hip-hop, american, rock a...   \n",
       "SODENZR12AAF3B13B9                                             [folk]   \n",
       "...                                                               ...   \n",
       "SOBPTED12A6D4F99C7  [british, soft rock, jazz, rock, adult contemp...   \n",
       "SOWVTAJ12A8C13C6D5                             [classic pop and rock]   \n",
       "SONWLUL12A8C13AEEE                             [soundtrack, american]   \n",
       "SOGMTCP12A58A81E46                 [country, american, greatest hits]   \n",
       "SOIFMVY12A8AE467B1  [irish, rock, ireland, irlandais, classic pop ...   \n",
       "\n",
       "                                                            multi_hot  \n",
       "song_id                                                                \n",
       "SOVVDCO12AB0187AF7  [0, 0, 0, 0, 0, 0, 0, 0, 0, 0, 0, 0, 0, 0, 0, ...  \n",
       "SOKSZVC12A8C142004  [0, 0, 0, 0, 0, 0, 0, 0, 0, 0, 0, 0, 0, 0, 0, ...  \n",
       "SOZQSGL12AF72A9145  [0, 0, 0, 0, 0, 0, 0, 0, 0, 0, 0, 0, 0, 0, 0, ...  \n",
       "SOBHQIJ12A6D4FC7D3  [0, 0, 0, 0, 0, 0, 0, 0, 0, 0, 0, 0, 0, 0, 0, ...  \n",
       "SODENZR12AAF3B13B9  [0, 0, 0, 0, 0, 0, 0, 0, 0, 0, 0, 0, 0, 0, 0, ...  \n",
       "...                                                               ...  \n",
       "SOBPTED12A6D4F99C7  [0, 0, 0, 0, 0, 0, 0, 0, 0, 0, 0, 0, 0, 0, 0, ...  \n",
       "SOWVTAJ12A8C13C6D5  [0, 0, 0, 0, 0, 0, 0, 0, 0, 0, 0, 0, 0, 0, 0, ...  \n",
       "SONWLUL12A8C13AEEE  [0, 0, 0, 0, 0, 0, 0, 0, 0, 0, 0, 0, 0, 0, 0, ...  \n",
       "SOGMTCP12A58A81E46  [0, 0, 0, 0, 0, 0, 0, 0, 0, 0, 0, 0, 0, 0, 0, ...  \n",
       "SOIFMVY12A8AE467B1  [0, 0, 0, 0, 0, 0, 0, 0, 0, 0, 0, 0, 0, 0, 0, ...  \n",
       "\n",
       "[3710 rows x 2 columns]"
      ]
     },
     "execution_count": 17,
     "metadata": {},
     "output_type": "execute_result"
    }
   ],
   "source": [
    "labels_multihot, decoding_labels = encode_multihot(tagged_data.copy(), 'mbtag')\n",
    "labels_multihot"
   ]
  },
  {
   "cell_type": "markdown",
   "metadata": {},
   "source": [
    "How many different genre descriptions are there?"
   ]
  },
  {
   "cell_type": "code",
   "execution_count": 18,
   "metadata": {},
   "outputs": [
    {
     "name": "stdout",
     "output_type": "stream",
     "text": [
      "Number of unique genre descriptions: 680\n"
     ]
    }
   ],
   "source": [
    "print(f\"Number of unique genre descriptions: {labels_multihot['multi_hot'].value_counts().shape[0]}\")"
   ]
  },
  {
   "cell_type": "markdown",
   "metadata": {},
   "source": [
    "Next, cluser multi-hot labels into k groups"
   ]
  },
  {
   "cell_type": "code",
   "execution_count": 19,
   "metadata": {},
   "outputs": [
    {
     "data": {
      "text/html": [
       "<div>\n",
       "<style scoped>\n",
       "    .dataframe tbody tr th:only-of-type {\n",
       "        vertical-align: middle;\n",
       "    }\n",
       "\n",
       "    .dataframe tbody tr th {\n",
       "        vertical-align: top;\n",
       "    }\n",
       "\n",
       "    .dataframe thead th {\n",
       "        text-align: right;\n",
       "    }\n",
       "</style>\n",
       "<table border=\"1\" class=\"dataframe\">\n",
       "  <thead>\n",
       "    <tr style=\"text-align: right;\">\n",
       "      <th></th>\n",
       "      <th>multi_hot</th>\n",
       "      <th>count</th>\n",
       "      <th>decoded_multihot</th>\n",
       "    </tr>\n",
       "  </thead>\n",
       "  <tbody>\n",
       "    <tr>\n",
       "      <th>0</th>\n",
       "      <td>[0, 0, 0, 0, 0, 0, 0, 0, 0, 0, 0, 0, 0, 0, 0, ...</td>\n",
       "      <td>188</td>\n",
       "      <td>[classic pop and rock]</td>\n",
       "    </tr>\n",
       "    <tr>\n",
       "      <th>1</th>\n",
       "      <td>[0, 0, 0, 0, 0, 0, 0, 0, 0, 0, 0, 0, 0, 0, 0, ...</td>\n",
       "      <td>137</td>\n",
       "      <td>[hip hop rnb and dance hall]</td>\n",
       "    </tr>\n",
       "    <tr>\n",
       "      <th>2</th>\n",
       "      <td>[0, 0, 0, 0, 0, 0, 0, 0, 0, 0, 0, 0, 0, 0, 0, ...</td>\n",
       "      <td>118</td>\n",
       "      <td>[rock and indie]</td>\n",
       "    </tr>\n",
       "    <tr>\n",
       "      <th>3</th>\n",
       "      <td>[0, 0, 0, 0, 0, 0, 0, 0, 0, 0, 0, 0, 0, 0, 0, ...</td>\n",
       "      <td>96</td>\n",
       "      <td>[folk]</td>\n",
       "    </tr>\n",
       "    <tr>\n",
       "      <th>4</th>\n",
       "      <td>[0, 0, 0, 0, 0, 0, 0, 0, 0, 0, 0, 0, 0, 0, 0, ...</td>\n",
       "      <td>67</td>\n",
       "      <td>[production music]</td>\n",
       "    </tr>\n",
       "    <tr>\n",
       "      <th>5</th>\n",
       "      <td>[0, 0, 0, 0, 0, 0, 0, 0, 0, 0, 0, 0, 0, 0, 0, ...</td>\n",
       "      <td>52</td>\n",
       "      <td>[pop and chart]</td>\n",
       "    </tr>\n",
       "    <tr>\n",
       "      <th>6</th>\n",
       "      <td>[0, 0, 0, 0, 0, 0, 0, 0, 0, 0, 0, 0, 0, 0, 0, ...</td>\n",
       "      <td>49</td>\n",
       "      <td>[finnish]</td>\n",
       "    </tr>\n",
       "    <tr>\n",
       "      <th>7</th>\n",
       "      <td>[0, 0, 0, 0, 0, 0, 0, 0, 0, 0, 0, 0, 0, 0, 0, ...</td>\n",
       "      <td>47</td>\n",
       "      <td>[french]</td>\n",
       "    </tr>\n",
       "    <tr>\n",
       "      <th>8</th>\n",
       "      <td>[0, 0, 0, 0, 0, 0, 0, 0, 0, 0, 0, 0, 0, 0, 0, ...</td>\n",
       "      <td>45</td>\n",
       "      <td>[soul and reggae]</td>\n",
       "    </tr>\n",
       "    <tr>\n",
       "      <th>9</th>\n",
       "      <td>[0, 0, 0, 0, 0, 0, 0, 0, 0, 0, 0, 0, 0, 0, 0, ...</td>\n",
       "      <td>42</td>\n",
       "      <td>[jazz and blues]</td>\n",
       "    </tr>\n",
       "  </tbody>\n",
       "</table>\n",
       "</div>"
      ],
      "text/plain": [
       "                                           multi_hot  count  \\\n",
       "0  [0, 0, 0, 0, 0, 0, 0, 0, 0, 0, 0, 0, 0, 0, 0, ...    188   \n",
       "1  [0, 0, 0, 0, 0, 0, 0, 0, 0, 0, 0, 0, 0, 0, 0, ...    137   \n",
       "2  [0, 0, 0, 0, 0, 0, 0, 0, 0, 0, 0, 0, 0, 0, 0, ...    118   \n",
       "3  [0, 0, 0, 0, 0, 0, 0, 0, 0, 0, 0, 0, 0, 0, 0, ...     96   \n",
       "4  [0, 0, 0, 0, 0, 0, 0, 0, 0, 0, 0, 0, 0, 0, 0, ...     67   \n",
       "5  [0, 0, 0, 0, 0, 0, 0, 0, 0, 0, 0, 0, 0, 0, 0, ...     52   \n",
       "6  [0, 0, 0, 0, 0, 0, 0, 0, 0, 0, 0, 0, 0, 0, 0, ...     49   \n",
       "7  [0, 0, 0, 0, 0, 0, 0, 0, 0, 0, 0, 0, 0, 0, 0, ...     47   \n",
       "8  [0, 0, 0, 0, 0, 0, 0, 0, 0, 0, 0, 0, 0, 0, 0, ...     45   \n",
       "9  [0, 0, 0, 0, 0, 0, 0, 0, 0, 0, 0, 0, 0, 0, 0, ...     42   \n",
       "\n",
       "               decoded_multihot  \n",
       "0        [classic pop and rock]  \n",
       "1  [hip hop rnb and dance hall]  \n",
       "2              [rock and indie]  \n",
       "3                        [folk]  \n",
       "4            [production music]  \n",
       "5               [pop and chart]  \n",
       "6                     [finnish]  \n",
       "7                      [french]  \n",
       "8             [soul and reggae]  \n",
       "9              [jazz and blues]  "
      ]
     },
     "execution_count": 19,
     "metadata": {},
     "output_type": "execute_result"
    }
   ],
   "source": [
    "# Get top n labels by frequency\n",
    "n = 10\n",
    "label_counts = labels_multihot['multi_hot'].value_counts()\n",
    "top_labels_by_frequency = label_counts.head(n).reset_index()\n",
    "decode_multihot(df = pd.DataFrame(top_labels_by_frequency), decoding_labels=decoding_labels, encoded_col='multi_hot')"
   ]
  },
  {
   "cell_type": "markdown",
   "metadata": {},
   "source": [
    "To reduce the number of labels, perform k-means clustering on label vectors to get k disting labels for training."
   ]
  },
  {
   "cell_type": "code",
   "execution_count": 42,
   "metadata": {},
   "outputs": [],
   "source": [
    "from models.util.clustering import cluster_encodings, plot_elbow_of_encoding_cluster, plot_num_elements_per_cluster, get_sillhouette_score, plot_num_clusters_vs_sillhouette, plot_num_clusters_vs_db_score, get_davies_bouldin_index"
   ]
  },
  {
   "cell_type": "markdown",
   "metadata": {},
   "source": [
    "#### Determining the optimal number of genre clusters with kmeans\n",
    "Using the elbow method:"
   ]
  },
  {
   "cell_type": "code",
   "execution_count": 21,
   "metadata": {},
   "outputs": [
    {
     "name": "stderr",
     "output_type": "stream",
     "text": [
      "Running kmeans from k = 2 to 100: 100%|██████████| 98/98 [00:37<00:00,  2.64it/s]\n"
     ]
    },
    {
     "data": {
      "image/png": "[encoded data removed]",
      "text/plain": [
       "<Figure size 1500x500 with 1 Axes>"
      ]
     },
     "metadata": {},
     "output_type": "display_data"
    }
   ],
   "source": [
    "plot_elbow_of_encoding_cluster(labels_multihot, 'multi_hot', k_max=100)"
   ]
  },
  {
   "cell_type": "code",
   "execution_count": 37,
   "metadata": {},
   "outputs": [
    {
     "name": "stderr",
     "output_type": "stream",
     "text": [
      "Running kmeans from k = 2 to 100: 100%|██████████| 98/98 [00:54<00:00,  1.81it/s]\n"
     ]
    },
    {
     "data": {
      "image/png": "[encoded data removed]",
      "text/plain": [
       "<Figure size 1500x500 with 1 Axes>"
      ]
     },
     "metadata": {},
     "output_type": "display_data"
    }
   ],
   "source": [
    "plot_num_clusters_vs_sillhouette(labels_multihot, 'multi_hot', k_max=100)"
   ]
  },
  {
   "cell_type": "code",
   "execution_count": 40,
   "metadata": {},
   "outputs": [
    {
     "name": "stderr",
     "output_type": "stream",
     "text": [
      "Running kmeans from k = 2 to 100: 100%|██████████| 98/98 [00:49<00:00,  1.97it/s]\n"
     ]
    },
    {
     "data": {
      "image/png": "[encoded data removed]",
      "text/plain": [
       "<Figure size 1500x500 with 1 Axes>"
      ]
     },
     "metadata": {},
     "output_type": "display_data"
    }
   ],
   "source": [
    "plot_num_clusters_vs_db_score(labels_multihot, 'multi_hot', k_max=100)"
   ]
  },
  {
   "cell_type": "markdown",
   "metadata": {},
   "source": [
    "From this, we can roughly pick k = 50 as an appropriate number of genre labels."
   ]
  },
  {
   "cell_type": "code",
   "execution_count": 43,
   "metadata": {},
   "outputs": [
    {
     "name": "stdout",
     "output_type": "stream",
     "text": [
      "Sillhouette Score = 0.21386977622049447\n",
      "Davies-Bouldin Index = 1.6643996760112412\n"
     ]
    },
    {
     "data": {
      "text/html": [
       "<div>\n",
       "<style scoped>\n",
       "    .dataframe tbody tr th:only-of-type {\n",
       "        vertical-align: middle;\n",
       "    }\n",
       "\n",
       "    .dataframe tbody tr th {\n",
       "        vertical-align: top;\n",
       "    }\n",
       "\n",
       "    .dataframe thead th {\n",
       "        text-align: right;\n",
       "    }\n",
       "</style>\n",
       "<table border=\"1\" class=\"dataframe\">\n",
       "  <thead>\n",
       "    <tr style=\"text-align: right;\">\n",
       "      <th></th>\n",
       "      <th>mbtag</th>\n",
       "      <th>multi_hot</th>\n",
       "      <th>cluster</th>\n",
       "    </tr>\n",
       "    <tr>\n",
       "      <th>song_id</th>\n",
       "      <th></th>\n",
       "      <th></th>\n",
       "      <th></th>\n",
       "    </tr>\n",
       "  </thead>\n",
       "  <tbody>\n",
       "    <tr>\n",
       "      <th>SOVVDCO12AB0187AF7</th>\n",
       "      <td>[fusion, jazz fusion, classic pop and rock]</td>\n",
       "      <td>[0, 0, 0, 0, 0, 0, 0, 0, 0, 0, 0, 0, 0, 0, 0, ...</td>\n",
       "      <td>8</td>\n",
       "    </tr>\n",
       "    <tr>\n",
       "      <th>SOKSZVC12A8C142004</th>\n",
       "      <td>[finnish]</td>\n",
       "      <td>[0, 0, 0, 0, 0, 0, 0, 0, 0, 0, 0, 0, 0, 0, 0, ...</td>\n",
       "      <td>1</td>\n",
       "    </tr>\n",
       "    <tr>\n",
       "      <th>SOZQSGL12AF72A9145</th>\n",
       "      <td>[punk, california, san francisco, rock and ind...</td>\n",
       "      <td>[0, 0, 0, 0, 0, 0, 0, 0, 0, 0, 0, 0, 0, 0, 0, ...</td>\n",
       "      <td>35</td>\n",
       "    </tr>\n",
       "    <tr>\n",
       "      <th>SOBHQIJ12A6D4FC7D3</th>\n",
       "      <td>[old school hip-hop, hip-hop, american, rock a...</td>\n",
       "      <td>[0, 0, 0, 0, 0, 0, 0, 0, 0, 0, 0, 0, 0, 0, 0, ...</td>\n",
       "      <td>18</td>\n",
       "    </tr>\n",
       "    <tr>\n",
       "      <th>SODENZR12AAF3B13B9</th>\n",
       "      <td>[folk]</td>\n",
       "      <td>[0, 0, 0, 0, 0, 0, 0, 0, 0, 0, 0, 0, 0, 0, 0, ...</td>\n",
       "      <td>40</td>\n",
       "    </tr>\n",
       "  </tbody>\n",
       "</table>\n",
       "</div>"
      ],
      "text/plain": [
       "                                                                mbtag  \\\n",
       "song_id                                                                 \n",
       "SOVVDCO12AB0187AF7        [fusion, jazz fusion, classic pop and rock]   \n",
       "SOKSZVC12A8C142004                                          [finnish]   \n",
       "SOZQSGL12AF72A9145  [punk, california, san francisco, rock and ind...   \n",
       "SOBHQIJ12A6D4FC7D3  [old school hip-hop, hip-hop, american, rock a...   \n",
       "SODENZR12AAF3B13B9                                             [folk]   \n",
       "\n",
       "                                                            multi_hot  cluster  \n",
       "song_id                                                                         \n",
       "SOVVDCO12AB0187AF7  [0, 0, 0, 0, 0, 0, 0, 0, 0, 0, 0, 0, 0, 0, 0, ...        8  \n",
       "SOKSZVC12A8C142004  [0, 0, 0, 0, 0, 0, 0, 0, 0, 0, 0, 0, 0, 0, 0, ...        1  \n",
       "SOZQSGL12AF72A9145  [0, 0, 0, 0, 0, 0, 0, 0, 0, 0, 0, 0, 0, 0, 0, ...       35  \n",
       "SOBHQIJ12A6D4FC7D3  [0, 0, 0, 0, 0, 0, 0, 0, 0, 0, 0, 0, 0, 0, 0, ...       18  \n",
       "SODENZR12AAF3B13B9  [0, 0, 0, 0, 0, 0, 0, 0, 0, 0, 0, 0, 0, 0, 0, ...       40  "
      ]
     },
     "execution_count": 43,
     "metadata": {},
     "output_type": "execute_result"
    }
   ],
   "source": [
    "k = 50\n",
    "kmeans = cluster_encodings(labels_multihot, 'multi_hot', k)\n",
    "labels_with_cluster = labels_multihot.copy()\n",
    "labels_with_cluster['cluster'] = kmeans.labels_\n",
    "print(f\"Sillhouette Score = {get_sillhouette_score(kmeans, labels_multihot, 'multi_hot')}\")\n",
    "print(f\"Davies-Bouldin Index = {get_davies_bouldin_index(kmeans, labels_multihot, 'multi_hot')}\")\n",
    "labels_with_cluster.head()"
   ]
  },
  {
   "cell_type": "code",
   "execution_count": 23,
   "metadata": {},
   "outputs": [],
   "source": [
    "cluster_counts = list(labels_with_cluster['cluster'].value_counts().index)"
   ]
  },
  {
   "cell_type": "code",
   "execution_count": 24,
   "metadata": {},
   "outputs": [
    {
     "name": "stdout",
     "output_type": "stream",
     "text": [
      "Number of songs in cluster 0: 748\n"
     ]
    },
    {
     "data": {
      "text/html": [
       "<div>\n",
       "<style scoped>\n",
       "    .dataframe tbody tr th:only-of-type {\n",
       "        vertical-align: middle;\n",
       "    }\n",
       "\n",
       "    .dataframe tbody tr th {\n",
       "        vertical-align: top;\n",
       "    }\n",
       "\n",
       "    .dataframe thead th {\n",
       "        text-align: right;\n",
       "    }\n",
       "</style>\n",
       "<table border=\"1\" class=\"dataframe\">\n",
       "  <thead>\n",
       "    <tr style=\"text-align: right;\">\n",
       "      <th></th>\n",
       "      <th>mbtag</th>\n",
       "      <th>multi_hot</th>\n",
       "      <th>cluster</th>\n",
       "    </tr>\n",
       "    <tr>\n",
       "      <th>song_id</th>\n",
       "      <th></th>\n",
       "      <th></th>\n",
       "      <th></th>\n",
       "    </tr>\n",
       "  </thead>\n",
       "  <tbody>\n",
       "    <tr>\n",
       "      <th>SOSRIVF12AB017DF0E</th>\n",
       "      <td>[french, composer]</td>\n",
       "      <td>[0, 0, 0, 0, 0, 0, 0, 0, 0, 0, 0, 0, 0, 0, 0, ...</td>\n",
       "      <td>25</td>\n",
       "    </tr>\n",
       "    <tr>\n",
       "      <th>SOVOTBC12A6D4F696A</th>\n",
       "      <td>[latvian]</td>\n",
       "      <td>[0, 0, 0, 0, 0, 0, 0, 0, 0, 0, 0, 0, 0, 0, 0, ...</td>\n",
       "      <td>25</td>\n",
       "    </tr>\n",
       "    <tr>\n",
       "      <th>SOYBJJE12A8C13CC79</th>\n",
       "      <td>[jazz]</td>\n",
       "      <td>[0, 0, 0, 0, 0, 0, 0, 0, 0, 0, 0, 0, 0, 0, 0, ...</td>\n",
       "      <td>25</td>\n",
       "    </tr>\n",
       "    <tr>\n",
       "      <th>SOPAESK12A58A7BA11</th>\n",
       "      <td>[rock, christian]</td>\n",
       "      <td>[0, 0, 0, 0, 0, 0, 0, 0, 0, 0, 0, 0, 0, 0, 0, ...</td>\n",
       "      <td>25</td>\n",
       "    </tr>\n",
       "    <tr>\n",
       "      <th>SOUGUXL12AB0184B76</th>\n",
       "      <td>[easy listening soundtracks and musicals]</td>\n",
       "      <td>[0, 0, 0, 0, 0, 0, 0, 0, 0, 0, 0, 0, 0, 0, 0, ...</td>\n",
       "      <td>25</td>\n",
       "    </tr>\n",
       "    <tr>\n",
       "      <th>SOABTKM12A8AE4721E</th>\n",
       "      <td>[new metal]</td>\n",
       "      <td>[0, 0, 0, 0, 0, 0, 0, 0, 0, 0, 0, 0, 0, 0, 0, ...</td>\n",
       "      <td>25</td>\n",
       "    </tr>\n",
       "    <tr>\n",
       "      <th>SOELVGK12A8C1337AF</th>\n",
       "      <td>[deutschland]</td>\n",
       "      <td>[0, 0, 0, 0, 0, 0, 0, 0, 0, 0, 0, 0, 0, 0, 0, ...</td>\n",
       "      <td>25</td>\n",
       "    </tr>\n",
       "    <tr>\n",
       "      <th>SOCQEHT12AB017F37F</th>\n",
       "      <td>[filk]</td>\n",
       "      <td>[0, 0, 0, 0, 0, 0, 0, 0, 0, 0, 0, 0, 0, 0, 0, ...</td>\n",
       "      <td>25</td>\n",
       "    </tr>\n",
       "    <tr>\n",
       "      <th>SOACUYZ12CF54662F1</th>\n",
       "      <td>[jazz and blues]</td>\n",
       "      <td>[0, 0, 0, 0, 0, 0, 0, 0, 0, 0, 0, 0, 0, 0, 0, ...</td>\n",
       "      <td>25</td>\n",
       "    </tr>\n",
       "    <tr>\n",
       "      <th>SOJINJO12A8C13C8C9</th>\n",
       "      <td>[british]</td>\n",
       "      <td>[0, 0, 0, 0, 0, 0, 0, 0, 0, 0, 0, 0, 0, 0, 0, ...</td>\n",
       "      <td>25</td>\n",
       "    </tr>\n",
       "  </tbody>\n",
       "</table>\n",
       "</div>"
      ],
      "text/plain": [
       "                                                        mbtag  \\\n",
       "song_id                                                         \n",
       "SOSRIVF12AB017DF0E                         [french, composer]   \n",
       "SOVOTBC12A6D4F696A                                  [latvian]   \n",
       "SOYBJJE12A8C13CC79                                     [jazz]   \n",
       "SOPAESK12A58A7BA11                          [rock, christian]   \n",
       "SOUGUXL12AB0184B76  [easy listening soundtracks and musicals]   \n",
       "SOABTKM12A8AE4721E                                [new metal]   \n",
       "SOELVGK12A8C1337AF                              [deutschland]   \n",
       "SOCQEHT12AB017F37F                                     [filk]   \n",
       "SOACUYZ12CF54662F1                           [jazz and blues]   \n",
       "SOJINJO12A8C13C8C9                                  [british]   \n",
       "\n",
       "                                                            multi_hot  cluster  \n",
       "song_id                                                                         \n",
       "SOSRIVF12AB017DF0E  [0, 0, 0, 0, 0, 0, 0, 0, 0, 0, 0, 0, 0, 0, 0, ...       25  \n",
       "SOVOTBC12A6D4F696A  [0, 0, 0, 0, 0, 0, 0, 0, 0, 0, 0, 0, 0, 0, 0, ...       25  \n",
       "SOYBJJE12A8C13CC79  [0, 0, 0, 0, 0, 0, 0, 0, 0, 0, 0, 0, 0, 0, 0, ...       25  \n",
       "SOPAESK12A58A7BA11  [0, 0, 0, 0, 0, 0, 0, 0, 0, 0, 0, 0, 0, 0, 0, ...       25  \n",
       "SOUGUXL12AB0184B76  [0, 0, 0, 0, 0, 0, 0, 0, 0, 0, 0, 0, 0, 0, 0, ...       25  \n",
       "SOABTKM12A8AE4721E  [0, 0, 0, 0, 0, 0, 0, 0, 0, 0, 0, 0, 0, 0, 0, ...       25  \n",
       "SOELVGK12A8C1337AF  [0, 0, 0, 0, 0, 0, 0, 0, 0, 0, 0, 0, 0, 0, 0, ...       25  \n",
       "SOCQEHT12AB017F37F  [0, 0, 0, 0, 0, 0, 0, 0, 0, 0, 0, 0, 0, 0, 0, ...       25  \n",
       "SOACUYZ12CF54662F1  [0, 0, 0, 0, 0, 0, 0, 0, 0, 0, 0, 0, 0, 0, 0, ...       25  \n",
       "SOJINJO12A8C13C8C9  [0, 0, 0, 0, 0, 0, 0, 0, 0, 0, 0, 0, 0, 0, 0, ...       25  "
      ]
     },
     "execution_count": 24,
     "metadata": {},
     "output_type": "execute_result"
    }
   ],
   "source": [
    "i = 0\n",
    "songs_for_cluster_i = labels_with_cluster[labels_with_cluster['cluster'] == cluster_counts[i]]\n",
    "print(f\"Number of songs in cluster {i}: {songs_for_cluster_i.shape[0]}\")\n",
    "songs_for_cluster_i.head(10)"
   ]
  },
  {
   "cell_type": "code",
   "execution_count": 25,
   "metadata": {},
   "outputs": [
    {
     "data": {
      "image/png": "[encoded data removed]",
      "text/plain": [
       "<Figure size 640x480 with 1 Axes>"
      ]
     },
     "metadata": {},
     "output_type": "display_data"
    }
   ],
   "source": [
    "plot_num_elements_per_cluster(labels_multihot, 'multi_hot', k)"
   ]
  },
  {
   "cell_type": "markdown",
   "metadata": {},
   "source": [
    "We see that around 25% of all songs belong to cluster 10 -- unless this truly represents the dataset, this is not ideal."
   ]
  },
  {
   "cell_type": "markdown",
   "metadata": {},
   "source": [
    "### Attempt 2: using Word2Vec to create embeddings instead of multihot encodings"
   ]
  },
  {
   "cell_type": "code",
   "execution_count": 26,
   "metadata": {},
   "outputs": [],
   "source": [
    "import numpy as np\n",
    "from util.encoding import w2v_embedding, compute_average_embedding"
   ]
  },
  {
   "cell_type": "code",
   "execution_count": 27,
   "metadata": {},
   "outputs": [
    {
     "name": "stderr",
     "output_type": "stream",
     "text": [
      "Constructing label list: 100%|██████████| 3710/3710 [00:00<00:00, 732620.90it/s]\n"
     ]
    }
   ],
   "source": [
    "# Idea: treat each list of genres like a sentence\n",
    "label_lists = []\n",
    "for label in tqdm(list(labels_multihot['mbtag']), desc=\"Constructing label list\"):\n",
    "    label_lists.append(label)"
   ]
  },
  {
   "cell_type": "code",
   "execution_count": 28,
   "metadata": {},
   "outputs": [],
   "source": [
    "label_embeddings = w2v_embedding(\n",
    "    sentences=label_lists,\n",
    "    vector_size=100,\n",
    "    window_size=5,\n",
    "    min_count=1,\n",
    ")"
   ]
  },
  {
   "cell_type": "markdown",
   "metadata": {},
   "source": [
    "Now that we have embeddings for individual genres, we can aggregate them per song. We can use average pooling."
   ]
  },
  {
   "cell_type": "code",
   "execution_count": 29,
   "metadata": {},
   "outputs": [
    {
     "data": {
      "text/html": [
       "<div>\n",
       "<style scoped>\n",
       "    .dataframe tbody tr th:only-of-type {\n",
       "        vertical-align: middle;\n",
       "    }\n",
       "\n",
       "    .dataframe tbody tr th {\n",
       "        vertical-align: top;\n",
       "    }\n",
       "\n",
       "    .dataframe thead th {\n",
       "        text-align: right;\n",
       "    }\n",
       "</style>\n",
       "<table border=\"1\" class=\"dataframe\">\n",
       "  <thead>\n",
       "    <tr style=\"text-align: right;\">\n",
       "      <th></th>\n",
       "      <th>mbtag</th>\n",
       "      <th>mbtag_embedding</th>\n",
       "    </tr>\n",
       "    <tr>\n",
       "      <th>song_id</th>\n",
       "      <th></th>\n",
       "      <th></th>\n",
       "    </tr>\n",
       "  </thead>\n",
       "  <tbody>\n",
       "    <tr>\n",
       "      <th>SOVVDCO12AB0187AF7</th>\n",
       "      <td>[fusion, jazz fusion, classic pop and rock]</td>\n",
       "      <td>[-0.09526891, 0.09404119, -0.009068976, -0.023...</td>\n",
       "    </tr>\n",
       "    <tr>\n",
       "      <th>SOKSZVC12A8C142004</th>\n",
       "      <td>[finnish]</td>\n",
       "      <td>[-0.14551345, 0.12819046, -0.008779037, -0.014...</td>\n",
       "    </tr>\n",
       "    <tr>\n",
       "      <th>SOZQSGL12AF72A9145</th>\n",
       "      <td>[punk, california, san francisco, rock and ind...</td>\n",
       "      <td>[-0.120741196, 0.11045152, 0.01509206, -0.0159...</td>\n",
       "    </tr>\n",
       "    <tr>\n",
       "      <th>SOBHQIJ12A6D4FC7D3</th>\n",
       "      <td>[old school hip-hop, hip-hop, american, rock a...</td>\n",
       "      <td>[-0.1030099, 0.10175818, 0.0061260536, 0.00563...</td>\n",
       "    </tr>\n",
       "    <tr>\n",
       "      <th>SODENZR12AAF3B13B9</th>\n",
       "      <td>[folk]</td>\n",
       "      <td>[-0.1108874, 0.100261375, -0.01191456, -0.0093...</td>\n",
       "    </tr>\n",
       "  </tbody>\n",
       "</table>\n",
       "</div>"
      ],
      "text/plain": [
       "                                                                mbtag  \\\n",
       "song_id                                                                 \n",
       "SOVVDCO12AB0187AF7        [fusion, jazz fusion, classic pop and rock]   \n",
       "SOKSZVC12A8C142004                                          [finnish]   \n",
       "SOZQSGL12AF72A9145  [punk, california, san francisco, rock and ind...   \n",
       "SOBHQIJ12A6D4FC7D3  [old school hip-hop, hip-hop, american, rock a...   \n",
       "SODENZR12AAF3B13B9                                             [folk]   \n",
       "\n",
       "                                                      mbtag_embedding  \n",
       "song_id                                                                \n",
       "SOVVDCO12AB0187AF7  [-0.09526891, 0.09404119, -0.009068976, -0.023...  \n",
       "SOKSZVC12A8C142004  [-0.14551345, 0.12819046, -0.008779037, -0.014...  \n",
       "SOZQSGL12AF72A9145  [-0.120741196, 0.11045152, 0.01509206, -0.0159...  \n",
       "SOBHQIJ12A6D4FC7D3  [-0.1030099, 0.10175818, 0.0061260536, 0.00563...  \n",
       "SODENZR12AAF3B13B9  [-0.1108874, 0.100261375, -0.01191456, -0.0093...  "
      ]
     },
     "execution_count": 29,
     "metadata": {},
     "output_type": "execute_result"
    }
   ],
   "source": [
    "labels_w2v_embedding = tagged_data.copy()[['mbtag']]\n",
    "labels_w2v_embedding['mbtag_embedding'] = labels_w2v_embedding['mbtag'].apply(lambda x: compute_average_embedding(x, label_embeddings))\n",
    "labels_w2v_embedding.head()"
   ]
  },
  {
   "cell_type": "markdown",
   "metadata": {},
   "source": [
    "Next, do kmeans on these average embeddings. First, do elbow curve analysis to determine optimal clustering."
   ]
  },
  {
   "cell_type": "code",
   "execution_count": 30,
   "metadata": {},
   "outputs": [
    {
     "name": "stderr",
     "output_type": "stream",
     "text": [
      "Running kmeans from k = 2 to 100: 100%|██████████| 98/98 [00:08<00:00, 12.23it/s]\n"
     ]
    },
    {
     "data": {
      "image/png": "[encoded data removed]",
      "text/plain": [
       "<Figure size 1500x500 with 1 Axes>"
      ]
     },
     "metadata": {},
     "output_type": "display_data"
    }
   ],
   "source": [
    "plot_elbow_of_encoding_cluster(labels_w2v_embedding, 'mbtag_embedding', 100)"
   ]
  },
  {
   "cell_type": "code",
   "execution_count": 38,
   "metadata": {},
   "outputs": [
    {
     "name": "stderr",
     "output_type": "stream",
     "text": [
      "Running kmeans from k = 2 to 100: 100%|██████████| 98/98 [00:20<00:00,  4.79it/s]\n"
     ]
    },
    {
     "data": {
      "image/png": "[encoded data removed]",
      "text/plain": [
       "<Figure size 1500x500 with 1 Axes>"
      ]
     },
     "metadata": {},
     "output_type": "display_data"
    }
   ],
   "source": [
    "plot_num_clusters_vs_sillhouette(labels_w2v_embedding, 'mbtag_embedding', k_max=100)"
   ]
  },
  {
   "cell_type": "code",
   "execution_count": 45,
   "metadata": {},
   "outputs": [
    {
     "name": "stderr",
     "output_type": "stream",
     "text": [
      "Running kmeans from k = 2 to 100: 100%|██████████| 98/98 [00:07<00:00, 12.66it/s]\n"
     ]
    },
    {
     "data": {
      "image/png": "[encoded data removed]",
      "text/plain": [
       "<Figure size 1500x500 with 1 Axes>"
      ]
     },
     "metadata": {},
     "output_type": "display_data"
    }
   ],
   "source": [
    "plot_num_clusters_vs_db_score(labels_w2v_embedding, 'mbtag_embedding', k_max=100)"
   ]
  },
  {
   "cell_type": "markdown",
   "metadata": {},
   "source": [
    "Optimal clustering is around k = 10. Note that with the W2V embedding, we get a steeper drop in the elbow curve."
   ]
  },
  {
   "cell_type": "code",
   "execution_count": 44,
   "metadata": {},
   "outputs": [
    {
     "name": "stdout",
     "output_type": "stream",
     "text": [
      "Sillhouette Score = 0.34406059980392456\n",
      "Davies-Bouldin Index = 1.2494093768693593\n"
     ]
    },
    {
     "data": {
      "text/html": [
       "<div>\n",
       "<style scoped>\n",
       "    .dataframe tbody tr th:only-of-type {\n",
       "        vertical-align: middle;\n",
       "    }\n",
       "\n",
       "    .dataframe tbody tr th {\n",
       "        vertical-align: top;\n",
       "    }\n",
       "\n",
       "    .dataframe thead th {\n",
       "        text-align: right;\n",
       "    }\n",
       "</style>\n",
       "<table border=\"1\" class=\"dataframe\">\n",
       "  <thead>\n",
       "    <tr style=\"text-align: right;\">\n",
       "      <th></th>\n",
       "      <th>mbtag</th>\n",
       "      <th>mbtag_embedding</th>\n",
       "      <th>cluster</th>\n",
       "    </tr>\n",
       "    <tr>\n",
       "      <th>song_id</th>\n",
       "      <th></th>\n",
       "      <th></th>\n",
       "      <th></th>\n",
       "    </tr>\n",
       "  </thead>\n",
       "  <tbody>\n",
       "    <tr>\n",
       "      <th>SOVVDCO12AB0187AF7</th>\n",
       "      <td>[fusion, jazz fusion, classic pop and rock]</td>\n",
       "      <td>[-0.09526891, 0.09404119, -0.009068976, -0.023...</td>\n",
       "      <td>3</td>\n",
       "    </tr>\n",
       "    <tr>\n",
       "      <th>SOKSZVC12A8C142004</th>\n",
       "      <td>[finnish]</td>\n",
       "      <td>[-0.14551345, 0.12819046, -0.008779037, -0.014...</td>\n",
       "      <td>15</td>\n",
       "    </tr>\n",
       "    <tr>\n",
       "      <th>SOZQSGL12AF72A9145</th>\n",
       "      <td>[punk, california, san francisco, rock and ind...</td>\n",
       "      <td>[-0.120741196, 0.11045152, 0.01509206, -0.0159...</td>\n",
       "      <td>23</td>\n",
       "    </tr>\n",
       "    <tr>\n",
       "      <th>SOBHQIJ12A6D4FC7D3</th>\n",
       "      <td>[old school hip-hop, hip-hop, american, rock a...</td>\n",
       "      <td>[-0.1030099, 0.10175818, 0.0061260536, 0.00563...</td>\n",
       "      <td>8</td>\n",
       "    </tr>\n",
       "    <tr>\n",
       "      <th>SODENZR12AAF3B13B9</th>\n",
       "      <td>[folk]</td>\n",
       "      <td>[-0.1108874, 0.100261375, -0.01191456, -0.0093...</td>\n",
       "      <td>24</td>\n",
       "    </tr>\n",
       "  </tbody>\n",
       "</table>\n",
       "</div>"
      ],
      "text/plain": [
       "                                                                mbtag  \\\n",
       "song_id                                                                 \n",
       "SOVVDCO12AB0187AF7        [fusion, jazz fusion, classic pop and rock]   \n",
       "SOKSZVC12A8C142004                                          [finnish]   \n",
       "SOZQSGL12AF72A9145  [punk, california, san francisco, rock and ind...   \n",
       "SOBHQIJ12A6D4FC7D3  [old school hip-hop, hip-hop, american, rock a...   \n",
       "SODENZR12AAF3B13B9                                             [folk]   \n",
       "\n",
       "                                                      mbtag_embedding  cluster  \n",
       "song_id                                                                         \n",
       "SOVVDCO12AB0187AF7  [-0.09526891, 0.09404119, -0.009068976, -0.023...        3  \n",
       "SOKSZVC12A8C142004  [-0.14551345, 0.12819046, -0.008779037, -0.014...       15  \n",
       "SOZQSGL12AF72A9145  [-0.120741196, 0.11045152, 0.01509206, -0.0159...       23  \n",
       "SOBHQIJ12A6D4FC7D3  [-0.1030099, 0.10175818, 0.0061260536, 0.00563...        8  \n",
       "SODENZR12AAF3B13B9  [-0.1108874, 0.100261375, -0.01191456, -0.0093...       24  "
      ]
     },
     "execution_count": 44,
     "metadata": {},
     "output_type": "execute_result"
    }
   ],
   "source": [
    "k2 = 30\n",
    "kmeans = cluster_encodings(labels_w2v_embedding, 'mbtag_embedding', k2)\n",
    "labels_w2v_embedding_clustered = labels_w2v_embedding.copy()\n",
    "labels_w2v_embedding_clustered['cluster'] = kmeans.labels_\n",
    "print(f\"Sillhouette Score = {get_sillhouette_score(kmeans, labels_w2v_embedding, 'mbtag_embedding')}\")\n",
    "print(f\"Davies-Bouldin Index = {get_davies_bouldin_index(kmeans, labels_w2v_embedding, 'mbtag_embedding')}\")\n",
    "labels_w2v_embedding_clustered.head()"
   ]
  },
  {
   "cell_type": "code",
   "execution_count": 32,
   "metadata": {},
   "outputs": [
    {
     "data": {
      "image/png": "[encoded data removed]",
      "text/plain": [
       "<Figure size 640x480 with 1 Axes>"
      ]
     },
     "metadata": {},
     "output_type": "display_data"
    }
   ],
   "source": [
    "plot_num_elements_per_cluster(labels_w2v_embedding, 'mbtag_embedding', k2)"
   ]
  },
  {
   "cell_type": "markdown",
   "metadata": {},
   "source": [
    "Note that with w2v embedding, we have a more uniform distribution of element frequency per cluster."
   ]
  },
  {
   "cell_type": "markdown",
   "metadata": {},
   "source": [
    "### Save data"
   ]
  },
  {
   "cell_type": "code",
   "execution_count": 33,
   "metadata": {},
   "outputs": [],
   "source": [
    "def save_data(metadata_df, music_analysis_df, labels_df):\n",
    "    out_dir = os.path.join(data_dir, 'intermediate_output')\n",
    "    os.makedirs(out_dir, exist_ok=True)\n",
    "    metadata_df.to_pickle(os.path.join(out_dir, 'metadata.pkl'))\n",
    "    music_analysis_df.to_pickle(os.path.join(out_dir, 'music_analysis.pkl'))\n",
    "    labels_df.to_pickle(os.path.join(out_dir, 'labels.pkl'))"
   ]
  },
  {
   "cell_type": "code",
   "execution_count": null,
   "metadata": {},
   "outputs": [],
   "source": [
    "# save_data(metadata, music_analysis, tagged_data[['mbtag']])"
   ]
  },
  {
   "cell_type": "code",
   "execution_count": null,
   "metadata": {},
   "outputs": [],
   "source": []
  }
 ],
 "metadata": {
  "kernelspec": {
   "display_name": "Python 3",
   "language": "python",
   "name": "python3"
  },
  "language_info": {
   "codemirror_mode": {
    "name": "ipython",
    "version": 3
   },
   "file_extension": ".py",
   "mimetype": "text/x-python",
   "name": "python",
   "nbconvert_exporter": "python",
   "pygments_lexer": "ipython3",
   "version": "3.12.2"
  }
 },
 "nbformat": 4,
 "nbformat_minor": 2
}
