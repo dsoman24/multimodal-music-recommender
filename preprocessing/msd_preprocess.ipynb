{
 "cells": [
  {
   "cell_type": "markdown",
   "metadata": {},
   "source": [
    "# Data Preprocessing for the Million Song Dataset"
   ]
  },
  {
   "cell_type": "code",
   "execution_count": 7,
   "metadata": {},
   "outputs": [],
   "source": [
    "from util.data_processor import DataProcessor\n",
    "from util.user_data_processor import UserDataProcessor\n",
    "import os\n",
    "import numpy as np\n",
    "import pandas as pd"
   ]
  },
  {
   "cell_type": "code",
   "execution_count": 11,
   "metadata": {},
   "outputs": [],
   "source": [
    "parent_directory = os.path.abspath(os.path.join(os.getcwd(), os.pardir))\n",
    "data_dir = os.path.join(parent_directory, 'data')\n",
    "user_data_dir = os.path.join(parent_directory, 'data', 'train_triplets.txt')"
   ]
  },
  {
   "cell_type": "code",
   "execution_count": 3,
   "metadata": {},
   "outputs": [],
   "source": [
    "processor = DataProcessor(\n",
    "    data_dir = data_dir,\n",
    "    mbtag_db_path = os.path.join(data_dir, 'artist_term.db'),\n",
    "    read_subset=True,\n",
    "    debug_messages=True\n",
    ")"
   ]
  },
  {
   "cell_type": "code",
   "execution_count": 4,
   "metadata": {},
   "outputs": [
    {
     "name": "stdout",
     "output_type": "stream",
     "text": [
      "Found 10000 files with extension '.h5' in '/Users/danieloman1/Desktop/multimodal-music-recommender/data'.\n"
     ]
    },
    {
     "name": "stderr",
     "output_type": "stream",
     "text": [
      "Processing files: 100%|██████████| 10000/10000 [00:10<00:00, 992.00it/s]\n"
     ]
    }
   ],
   "source": [
    "df = processor.process_dataset_df()"
   ]
  },
  {
   "cell_type": "code",
   "execution_count": 5,
   "metadata": {},
   "outputs": [
    {
     "data": {
      "text/plain": [
       "Index(['title', 'artist_name', 'artist_id', 'song_id', 'mbtag'], dtype='object')"
      ]
     },
     "execution_count": 5,
     "metadata": {},
     "output_type": "execute_result"
    }
   ],
   "source": [
    "df.columns"
   ]
  },
  {
   "cell_type": "code",
   "execution_count": 6,
   "metadata": {},
   "outputs": [
    {
     "data": {
      "text/html": [
       "<div>\n",
       "<style scoped>\n",
       "    .dataframe tbody tr th:only-of-type {\n",
       "        vertical-align: middle;\n",
       "    }\n",
       "\n",
       "    .dataframe tbody tr th {\n",
       "        vertical-align: top;\n",
       "    }\n",
       "\n",
       "    .dataframe thead th {\n",
       "        text-align: right;\n",
       "    }\n",
       "</style>\n",
       "<table border=\"1\" class=\"dataframe\">\n",
       "  <thead>\n",
       "    <tr style=\"text-align: right;\">\n",
       "      <th></th>\n",
       "      <th>title</th>\n",
       "      <th>artist_name</th>\n",
       "      <th>artist_id</th>\n",
       "      <th>song_id</th>\n",
       "      <th>mbtag</th>\n",
       "    </tr>\n",
       "  </thead>\n",
       "  <tbody>\n",
       "    <tr>\n",
       "      <th>5</th>\n",
       "      <td>Liquid Time (composition by John Goodsall)</td>\n",
       "      <td>Brand X</td>\n",
       "      <td>ARDPTGD1187B9AD361</td>\n",
       "      <td>SOVVDCO12AB0187AF7</td>\n",
       "      <td>[fusion, jazz fusion, classic pop and rock]</td>\n",
       "    </tr>\n",
       "    <tr>\n",
       "      <th>6</th>\n",
       "      <td>Misery Path (From the Privilege of Evil)</td>\n",
       "      <td>Amorphis</td>\n",
       "      <td>ARV8T9T1187B99F3F4</td>\n",
       "      <td>SOKSZVC12A8C142004</td>\n",
       "      <td>[finnish]</td>\n",
       "    </tr>\n",
       "    <tr>\n",
       "      <th>8</th>\n",
       "      <td>Halloween</td>\n",
       "      <td>Dead Kennedys</td>\n",
       "      <td>AR050VJ1187B9B13A7</td>\n",
       "      <td>SOZQSGL12AF72A9145</td>\n",
       "      <td>[punk, california, san francisco, rock and ind...</td>\n",
       "    </tr>\n",
       "    <tr>\n",
       "      <th>15</th>\n",
       "      <td>Spoonie Is Back</td>\n",
       "      <td>Spoonie Gee</td>\n",
       "      <td>ARB2M051187FB56FA9</td>\n",
       "      <td>SOBHQIJ12A6D4FC7D3</td>\n",
       "      <td>[old school hip-hop, hip-hop, american, rock a...</td>\n",
       "    </tr>\n",
       "    <tr>\n",
       "      <th>16</th>\n",
       "      <td>Blood Round Dance Song (World)</td>\n",
       "      <td>R. Carlos Nakai</td>\n",
       "      <td>AREJ5K11187B993F5F</td>\n",
       "      <td>SODENZR12AAF3B13B9</td>\n",
       "      <td>[folk]</td>\n",
       "    </tr>\n",
       "    <tr>\n",
       "      <th>...</th>\n",
       "      <td>...</td>\n",
       "      <td>...</td>\n",
       "      <td>...</td>\n",
       "      <td>...</td>\n",
       "      <td>...</td>\n",
       "    </tr>\n",
       "    <tr>\n",
       "      <th>9984</th>\n",
       "      <td>You Can't Hurry Love (Live)</td>\n",
       "      <td>Phil Collins</td>\n",
       "      <td>AR9W3X91187FB3994C</td>\n",
       "      <td>SOBPTED12A6D4F99C7</td>\n",
       "      <td>[british, soft rock, jazz, rock, adult contemp...</td>\n",
       "    </tr>\n",
       "    <tr>\n",
       "      <th>9985</th>\n",
       "      <td>Jingle Bells</td>\n",
       "      <td>Jim Reeves</td>\n",
       "      <td>ARZVTZN1187FB579D4</td>\n",
       "      <td>SOWVTAJ12A8C13C6D5</td>\n",
       "      <td>[classic pop and rock]</td>\n",
       "    </tr>\n",
       "    <tr>\n",
       "      <th>9986</th>\n",
       "      <td>Overture/Blue Tahitian Moon</td>\n",
       "      <td>Angelo Badalamenti / Keira Knightley</td>\n",
       "      <td>AR1PCLK1187FB5BBFF</td>\n",
       "      <td>SONWLUL12A8C13AEEE</td>\n",
       "      <td>[soundtrack, american]</td>\n",
       "    </tr>\n",
       "    <tr>\n",
       "      <th>9994</th>\n",
       "      <td>Go And Wash (Those Dirty Feet)</td>\n",
       "      <td>Johnny Horton</td>\n",
       "      <td>ARTBFV61187FB3C250</td>\n",
       "      <td>SOGMTCP12A58A81E46</td>\n",
       "      <td>[country, american, greatest hits]</td>\n",
       "    </tr>\n",
       "    <tr>\n",
       "      <th>9996</th>\n",
       "      <td>October</td>\n",
       "      <td>U2</td>\n",
       "      <td>ARUJ5A41187FB3F5F1</td>\n",
       "      <td>SOIFMVY12A8AE467B1</td>\n",
       "      <td>[irish, rock, ireland, irlandais, classic pop ...</td>\n",
       "    </tr>\n",
       "  </tbody>\n",
       "</table>\n",
       "<p>3710 rows × 5 columns</p>\n",
       "</div>"
      ],
      "text/plain": [
       "                                           title  \\\n",
       "5     Liquid Time (composition by John Goodsall)   \n",
       "6       Misery Path (From the Privilege of Evil)   \n",
       "8                                      Halloween   \n",
       "15                               Spoonie Is Back   \n",
       "16                Blood Round Dance Song (World)   \n",
       "...                                          ...   \n",
       "9984                 You Can't Hurry Love (Live)   \n",
       "9985                                Jingle Bells   \n",
       "9986                 Overture/Blue Tahitian Moon   \n",
       "9994              Go And Wash (Those Dirty Feet)   \n",
       "9996                                     October   \n",
       "\n",
       "                               artist_name           artist_id  \\\n",
       "5                                  Brand X  ARDPTGD1187B9AD361   \n",
       "6                                 Amorphis  ARV8T9T1187B99F3F4   \n",
       "8                            Dead Kennedys  AR050VJ1187B9B13A7   \n",
       "15                             Spoonie Gee  ARB2M051187FB56FA9   \n",
       "16                         R. Carlos Nakai  AREJ5K11187B993F5F   \n",
       "...                                    ...                 ...   \n",
       "9984                          Phil Collins  AR9W3X91187FB3994C   \n",
       "9985                            Jim Reeves  ARZVTZN1187FB579D4   \n",
       "9986  Angelo Badalamenti / Keira Knightley  AR1PCLK1187FB5BBFF   \n",
       "9994                         Johnny Horton  ARTBFV61187FB3C250   \n",
       "9996                                    U2  ARUJ5A41187FB3F5F1   \n",
       "\n",
       "                 song_id                                              mbtag  \n",
       "5     SOVVDCO12AB0187AF7        [fusion, jazz fusion, classic pop and rock]  \n",
       "6     SOKSZVC12A8C142004                                          [finnish]  \n",
       "8     SOZQSGL12AF72A9145  [punk, california, san francisco, rock and ind...  \n",
       "15    SOBHQIJ12A6D4FC7D3  [old school hip-hop, hip-hop, american, rock a...  \n",
       "16    SODENZR12AAF3B13B9                                             [folk]  \n",
       "...                  ...                                                ...  \n",
       "9984  SOBPTED12A6D4F99C7  [british, soft rock, jazz, rock, adult contemp...  \n",
       "9985  SOWVTAJ12A8C13C6D5                             [classic pop and rock]  \n",
       "9986  SONWLUL12A8C13AEEE                             [soundtrack, american]  \n",
       "9994  SOGMTCP12A58A81E46                 [country, american, greatest hits]  \n",
       "9996  SOIFMVY12A8AE467B1  [irish, rock, ireland, irlandais, classic pop ...  \n",
       "\n",
       "[3710 rows x 5 columns]"
      ]
     },
     "execution_count": 6,
     "metadata": {},
     "output_type": "execute_result"
    }
   ],
   "source": [
    "df = df.dropna(subset=['mbtag'])\n",
    "df"
   ]
  },
  {
   "cell_type": "code",
   "execution_count": 13,
   "metadata": {},
   "outputs": [],
   "source": [
    "user_processor = UserDataProcessor(\n",
    "    data_dir=user_data_dir,\n",
    "    debug_messages=True\n",
    ")"
   ]
  },
  {
   "cell_type": "code",
   "execution_count": 14,
   "metadata": {},
   "outputs": [
    {
     "name": "stderr",
     "output_type": "stream",
     "text": [
      "Reading user listening history file: 48373586it [00:16, 2881951.89it/s]\n"
     ]
    },
    {
     "name": "stdout",
     "output_type": "stream",
     "text": [
      "Read 48373586 user triplets.\n"
     ]
    }
   ],
   "source": [
    "user_df = user_processor.process_user_data()"
   ]
  },
  {
   "cell_type": "code",
   "execution_count": null,
   "metadata": {},
   "outputs": [],
   "source": []
  }
 ],
 "metadata": {
  "kernelspec": {
   "display_name": "Python 3",
   "language": "python",
   "name": "python3"
  },
  "language_info": {
   "codemirror_mode": {
    "name": "ipython",
    "version": 3
   },
   "file_extension": ".py",
   "mimetype": "text/x-python",
   "name": "python",
   "nbconvert_exporter": "python",
   "pygments_lexer": "ipython3",
   "version": "3.12.2"
  }
 },
 "nbformat": 4,
 "nbformat_minor": 2
}
