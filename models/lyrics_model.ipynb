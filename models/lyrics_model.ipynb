{
 "cells": [
  {
   "cell_type": "markdown",
   "metadata": {},
   "source": [
    "# Lyrics Feature Extraction using TF-IDF\n",
    "Idea: From the frequency table of the lyrics that is preprocessed, we obtain a feature extraction using TF-IDF. \n",
    "We get __ number of features as the columns of the dataframe"
   ]
  },
  {
   "cell_type": "code",
   "execution_count": 3,
   "metadata": {},
   "outputs": [],
   "source": [
    "import sys\n",
    "import os\n",
    "\n",
    "# Add the parent directory to sys.path\n",
    "sys.path.append(os.path.abspath(os.path.join(os.getcwd(), '..')))"
   ]
  },
  {
   "cell_type": "code",
   "execution_count": 4,
   "metadata": {},
   "outputs": [
    {
     "name": "stderr",
     "output_type": "stream",
     "text": [
      "/Users/wonhochoi/anaconda3/envs/CS4644/lib/python3.11/site-packages/tqdm/auto.py:21: TqdmWarning: IProgress not found. Please update jupyter and ipywidgets. See https://ipywidgets.readthedocs.io/en/stable/user_install.html\n",
      "  from .autonotebook import tqdm as notebook_tqdm\n"
     ]
    }
   ],
   "source": [
    "from preprocessing.util.lyrics_processor import LyricsProcessor\n",
    "from lyrics_provider import LyricsProvider\n",
    "import os\n",
    "import numpy as np\n",
    "import pandas as pd\n",
    "import sqlite3"
   ]
  },
  {
   "cell_type": "code",
   "execution_count": 5,
   "metadata": {},
   "outputs": [],
   "source": [
    "parent_directory = os.path.abspath(os.path.join(os.getcwd(), os.pardir))\n",
    "data_dir = os.path.join(parent_directory, 'data')\n",
    "lyrics_dir = os.path.join(data_dir, 'mxm_dataset.db')"
   ]
  },
  {
   "cell_type": "code",
   "execution_count": 6,
   "metadata": {},
   "outputs": [
    {
     "name": "stdout",
     "output_type": "stream",
     "text": [
      "Database connected.\n",
      "Columns in 'lyrics' table: ['track_id', 'mxm_tid', 'word', 'count', 'is_test', 'song_id']\n",
      "'song_id' column already exists.\n",
      "Lyrics table processed and pivoted with song_id as index.\n",
      "Database connection closed.\n"
     ]
    }
   ],
   "source": [
    "processor = LyricsProcessor(lyrics_dir)\n",
    "processor.process_all()\n",
    "lyrics_data = processor.get_lyrics_data()"
   ]
  },
  {
   "cell_type": "markdown",
   "metadata": {},
   "source": [
    "Determine number of features to set the vector in dataframe format using **max_features**"
   ]
  },
  {
   "cell_type": "code",
   "execution_count": 7,
   "metadata": {},
   "outputs": [
    {
     "name": "stdout",
     "output_type": "stream",
     "text": [
      "TF-IDF embeddings generated.\n",
      "              song_id  all        am       and       are        do        in  \\\n",
      "0  TRAAAAV128F421A322  0.0  0.300988  0.487591  0.294758  0.000000  0.000000   \n",
      "1  TRAAABD128F429CF47  0.0  0.000000  0.075210  0.340995  0.273745  0.131871   \n",
      "2  TRAAAED128E0783FAB  0.0  0.264423  0.471193  0.064738  0.062364  0.000000   \n",
      "3  TRAAAEF128F4273421  0.0  0.000000  0.000000  0.000000  0.000000  0.000000   \n",
      "4  TRAAAEW128F42930C0  0.0  0.287620  0.434872  0.000000  0.000000  0.000000   \n",
      "\n",
      "         is        it        me  ...       not        of        on      that  \\\n",
      "0  0.234611  0.000000  0.000000  ...  0.000000  0.372548  0.000000  0.000000   \n",
      "1  0.135707  0.132564  0.000000  ...  0.090503  0.000000  0.000000  0.254985   \n",
      "2  0.077291  0.100668  0.050630  ...  0.051546  0.000000  0.000000  0.203317   \n",
      "3  0.788932  0.000000  0.000000  ...  0.350760  0.278394  0.000000  0.197648   \n",
      "4  0.000000  0.000000  0.293716  ...  0.000000  0.000000  0.181298  0.000000   \n",
      "\n",
      "        the        to        we      will       you      your  \n",
      "0  0.351902  0.191695  0.318103  0.301195  0.196098  0.000000  \n",
      "1  0.000000  0.295686  0.000000  0.000000  0.642768  0.372328  \n",
      "2  0.289830  0.252611  0.000000  0.429984  0.043069  0.000000  \n",
      "3  0.262966  0.143248  0.000000  0.000000  0.219808  0.000000  \n",
      "4  0.000000  0.305301  0.000000  0.000000  0.000000  0.000000  \n",
      "\n",
      "[5 rows x 21 columns]\n"
     ]
    }
   ],
   "source": [
    "#getting and displaying the embeddings and feature outputs from TF-IDF\",\n",
    "#processes the lyris \\n\"\n",
    "model = LyricsProvider(lyrics_data)\n",
    "embeddings_df = model.get_tfidf_embeddings(lyrics_data, max_features=20)\n",
    "#the dataframe will contain however many features as specificed in the max_features. these are the columns below. \n",
    "print(embeddings_df.head())"
   ]
  }
 ],
 "metadata": {
  "kernelspec": {
   "display_name": "Python 3.11.10 ('CS4644')",
   "language": "python",
   "name": "python3"
  },
  "language_info": {
   "codemirror_mode": {
    "name": "ipython",
    "version": 3
   },
   "file_extension": ".py",
   "mimetype": "text/x-python",
   "name": "python",
   "nbconvert_exporter": "python",
   "pygments_lexer": "ipython3",
   "version": "3.11.10"
  },
  "orig_nbformat": 4,
  "vscode": {
   "interpreter": {
    "hash": "d4904476a2550fc01d98dc13eadf43a2de8ec530f13a0b18db048c1d773173ee"
   }
  }
 },
 "nbformat": 4,
 "nbformat_minor": 2
}
