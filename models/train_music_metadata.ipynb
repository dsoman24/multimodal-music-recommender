{
 "cells": [
  {
   "cell_type": "markdown",
   "metadata": {},
   "source": [
    "# Metadata training\n",
    "\n",
    "Idea: use MLP on metadata to predict labels.\n",
    "\n",
    "First, process labels into one-hot encoded vector."
   ]
  },
  {
   "cell_type": "code",
   "execution_count": 18,
   "metadata": {},
   "outputs": [
    {
     "name": "stdout",
     "output_type": "stream",
     "text": [
      "The autoreload extension is already loaded. To reload it, use:\n",
      "  %reload_ext autoreload\n"
     ]
    }
   ],
   "source": [
    "%load_ext autoreload\n",
    "%autoreload 2\n",
    "from data_provider import DataProvider\n",
    "import pandas as pd\n",
    "import matplotlib.pyplot as plt"
   ]
  },
  {
   "cell_type": "code",
   "execution_count": 32,
   "metadata": {},
   "outputs": [
    {
     "name": "stdout",
     "output_type": "stream",
     "text": [
      "Reading labels.\n",
      "Reading metadata.\n",
      "Reading music_analysis.\n"
     ]
    }
   ],
   "source": [
    "# Initialize data provider class\n",
    "dp = DataProvider(clustering_method='dbscan', debug=True)\n",
    "cluster_config = {\n",
    "    'eps': 0.1,\n",
    "    'min_samples': 10\n",
    "}"
   ]
  },
  {
   "cell_type": "code",
   "execution_count": 33,
   "metadata": {},
   "outputs": [
    {
     "name": "stdout",
     "output_type": "stream",
     "text": [
      "Clustering mbtag_embedding.\n"
     ]
    },
    {
     "data": {
      "text/html": [
       "<div>\n",
       "<style scoped>\n",
       "    .dataframe tbody tr th:only-of-type {\n",
       "        vertical-align: middle;\n",
       "    }\n",
       "\n",
       "    .dataframe tbody tr th {\n",
       "        vertical-align: top;\n",
       "    }\n",
       "\n",
       "    .dataframe thead th {\n",
       "        text-align: right;\n",
       "    }\n",
       "</style>\n",
       "<table border=\"1\" class=\"dataframe\">\n",
       "  <thead>\n",
       "    <tr style=\"text-align: right;\">\n",
       "      <th></th>\n",
       "      <th>mbtag</th>\n",
       "      <th>mbtag_embedding</th>\n",
       "      <th>cluster</th>\n",
       "    </tr>\n",
       "    <tr>\n",
       "      <th>song_id</th>\n",
       "      <th></th>\n",
       "      <th></th>\n",
       "      <th></th>\n",
       "    </tr>\n",
       "  </thead>\n",
       "  <tbody>\n",
       "    <tr>\n",
       "      <th>SOVVDCO12AB0187AF7</th>\n",
       "      <td>[fusion, jazz fusion, classic pop and rock]</td>\n",
       "      <td>[-0.09234456, 0.09288454, -0.009184127, -0.023...</td>\n",
       "      <td>0</td>\n",
       "    </tr>\n",
       "    <tr>\n",
       "      <th>SOKSZVC12A8C142004</th>\n",
       "      <td>[finnish]</td>\n",
       "      <td>[-0.14119178, 0.12613417, -0.009287859, -0.014...</td>\n",
       "      <td>0</td>\n",
       "    </tr>\n",
       "    <tr>\n",
       "      <th>SOZQSGL12AF72A9145</th>\n",
       "      <td>[punk, california, san francisco, rock and ind...</td>\n",
       "      <td>[-0.116643086, 0.108250156, 0.01448074, -0.016...</td>\n",
       "      <td>0</td>\n",
       "    </tr>\n",
       "    <tr>\n",
       "      <th>SOBHQIJ12A6D4FC7D3</th>\n",
       "      <td>[old school hip-hop, hip-hop, american, rock a...</td>\n",
       "      <td>[-0.099780515, 0.09995292, 0.005859726, 0.0056...</td>\n",
       "      <td>0</td>\n",
       "    </tr>\n",
       "    <tr>\n",
       "      <th>SODENZR12AAF3B13B9</th>\n",
       "      <td>[folk]</td>\n",
       "      <td>[-0.10750839, 0.09862709, -0.012248771, -0.009...</td>\n",
       "      <td>0</td>\n",
       "    </tr>\n",
       "  </tbody>\n",
       "</table>\n",
       "</div>"
      ],
      "text/plain": [
       "                                                                mbtag  \\\n",
       "song_id                                                                 \n",
       "SOVVDCO12AB0187AF7        [fusion, jazz fusion, classic pop and rock]   \n",
       "SOKSZVC12A8C142004                                          [finnish]   \n",
       "SOZQSGL12AF72A9145  [punk, california, san francisco, rock and ind...   \n",
       "SOBHQIJ12A6D4FC7D3  [old school hip-hop, hip-hop, american, rock a...   \n",
       "SODENZR12AAF3B13B9                                             [folk]   \n",
       "\n",
       "                                                      mbtag_embedding  cluster  \n",
       "song_id                                                                         \n",
       "SOVVDCO12AB0187AF7  [-0.09234456, 0.09288454, -0.009184127, -0.023...        0  \n",
       "SOKSZVC12A8C142004  [-0.14119178, 0.12613417, -0.009287859, -0.014...        0  \n",
       "SOZQSGL12AF72A9145  [-0.116643086, 0.108250156, 0.01448074, -0.016...        0  \n",
       "SOBHQIJ12A6D4FC7D3  [-0.099780515, 0.09995292, 0.005859726, 0.0056...        0  \n",
       "SODENZR12AAF3B13B9  [-0.10750839, 0.09862709, -0.012248771, -0.009...        0  "
      ]
     },
     "execution_count": 33,
     "metadata": {},
     "output_type": "execute_result"
    }
   ],
   "source": [
    "dp.generate_training_classes(config=cluster_config)\n",
    "dp.labels_df.head()"
   ]
  },
  {
   "cell_type": "code",
   "execution_count": 34,
   "metadata": {},
   "outputs": [
    {
     "name": "stdout",
     "output_type": "stream",
     "text": [
      "9\n"
     ]
    }
   ],
   "source": [
    "distinct_clusters = dp.labels_df['cluster'].nunique()\n",
    "print(distinct_clusters)"
   ]
  },
  {
   "cell_type": "code",
   "execution_count": 35,
   "metadata": {},
   "outputs": [
    {
     "data": {
      "image/png": "[encoded data removed]",
      "text/plain": [
       "<Figure size 640x480 with 1 Axes>"
      ]
     },
     "metadata": {},
     "output_type": "display_data"
    }
   ],
   "source": [
    "counts = pd.DataFrame(dp.labels_df['cluster']).value_counts()\n",
    "counts = counts.reset_index()\n",
    "counts.columns = ['cluster', 'count']\n",
    "plt.bar(x=counts['cluster'], height=counts['count'])\n",
    "plt.title('Number of elements per cluster')\n",
    "plt.xlabel('Cluster')\n",
    "plt.ylabel('Number of elements')\n",
    "plt.show()"
   ]
  },
  {
   "cell_type": "code",
   "execution_count": null,
   "metadata": {},
   "outputs": [],
   "source": []
  }
 ],
 "metadata": {
  "kernelspec": {
   "display_name": "Python 3",
   "language": "python",
   "name": "python3"
  },
  "language_info": {
   "codemirror_mode": {
    "name": "ipython",
    "version": 3
   },
   "file_extension": ".py",
   "mimetype": "text/x-python",
   "name": "python",
   "nbconvert_exporter": "python",
   "pygments_lexer": "ipython3",
   "version": "3.12.2"
  }
 },
 "nbformat": 4,
 "nbformat_minor": 2
}
