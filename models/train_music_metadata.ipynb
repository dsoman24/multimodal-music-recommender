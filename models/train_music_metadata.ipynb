{
 "cells": [
  {
   "cell_type": "markdown",
   "metadata": {},
   "source": [
    "# Metadata training\n",
    "\n",
    "Idea: use MLP on metadata to predict labels.\n",
    "\n",
    "First, process labels into one-hot encoded vector."
   ]
  },
  {
   "cell_type": "code",
   "execution_count": 17,
   "metadata": {},
   "outputs": [
    {
     "name": "stdout",
     "output_type": "stream",
     "text": [
      "The autoreload extension is already loaded. To reload it, use:\n",
      "  %reload_ext autoreload\n"
     ]
    }
   ],
   "source": [
    "%load_ext autoreload\n",
    "%autoreload 2\n",
    "from data_provider import DataProvider\n",
    "import pandas as pd\n",
    "import matplotlib.pyplot as plt"
   ]
  },
  {
   "cell_type": "code",
   "execution_count": 18,
   "metadata": {},
   "outputs": [
    {
     "name": "stdout",
     "output_type": "stream",
     "text": [
      "Reading labels.\n",
      "Reading metadata.\n"
     ]
    }
   ],
   "source": [
    "# Initialize data provider class\n",
    "dp = DataProvider(clustering_method='kmeans', debug=True)\n",
    "cluster_config = {\n",
    "    'n_clusters': 15\n",
    "}"
   ]
  },
  {
   "cell_type": "code",
   "execution_count": 19,
   "metadata": {},
   "outputs": [
    {
     "name": "stdout",
     "output_type": "stream",
     "text": [
      "Clustering mbtag_embedding.\n"
     ]
    },
    {
     "data": {
      "text/html": [
       "<div>\n",
       "<style scoped>\n",
       "    .dataframe tbody tr th:only-of-type {\n",
       "        vertical-align: middle;\n",
       "    }\n",
       "\n",
       "    .dataframe tbody tr th {\n",
       "        vertical-align: top;\n",
       "    }\n",
       "\n",
       "    .dataframe thead th {\n",
       "        text-align: right;\n",
       "    }\n",
       "</style>\n",
       "<table border=\"1\" class=\"dataframe\">\n",
       "  <thead>\n",
       "    <tr style=\"text-align: right;\">\n",
       "      <th></th>\n",
       "      <th>mbtag</th>\n",
       "      <th>mbtag_embedding</th>\n",
       "      <th>cluster</th>\n",
       "    </tr>\n",
       "  </thead>\n",
       "  <tbody>\n",
       "    <tr>\n",
       "      <th>7</th>\n",
       "      <td>[hip hop rnb and dance hall, hip hop]</td>\n",
       "      <td>[0.64347446, -0.048744507, 0.66661394, -0.1854...</td>\n",
       "      <td>12</td>\n",
       "    </tr>\n",
       "    <tr>\n",
       "      <th>14</th>\n",
       "      <td>[world]</td>\n",
       "      <td>[0.6685293, -0.4602034, -0.2661725, -0.1019489...</td>\n",
       "      <td>13</td>\n",
       "    </tr>\n",
       "    <tr>\n",
       "      <th>16</th>\n",
       "      <td>[folk]</td>\n",
       "      <td>[0.5258156, 0.12767166, 0.44252962, 0.94580036...</td>\n",
       "      <td>0</td>\n",
       "    </tr>\n",
       "    <tr>\n",
       "      <th>17</th>\n",
       "      <td>[brutal death metal]</td>\n",
       "      <td>[-0.37924206, 0.58851165, -0.049779158, -0.247...</td>\n",
       "      <td>10</td>\n",
       "    </tr>\n",
       "    <tr>\n",
       "      <th>18</th>\n",
       "      <td>[post-hardcore]</td>\n",
       "      <td>[-0.026857091, 0.2893848, -0.08303145, 0.21819...</td>\n",
       "      <td>11</td>\n",
       "    </tr>\n",
       "  </tbody>\n",
       "</table>\n",
       "</div>"
      ],
      "text/plain": [
       "                                    mbtag  \\\n",
       "7   [hip hop rnb and dance hall, hip hop]   \n",
       "14                                [world]   \n",
       "16                                 [folk]   \n",
       "17                   [brutal death metal]   \n",
       "18                        [post-hardcore]   \n",
       "\n",
       "                                      mbtag_embedding  cluster  \n",
       "7   [0.64347446, -0.048744507, 0.66661394, -0.1854...       12  \n",
       "14  [0.6685293, -0.4602034, -0.2661725, -0.1019489...       13  \n",
       "16  [0.5258156, 0.12767166, 0.44252962, 0.94580036...        0  \n",
       "17  [-0.37924206, 0.58851165, -0.049779158, -0.247...       10  \n",
       "18  [-0.026857091, 0.2893848, -0.08303145, 0.21819...       11  "
      ]
     },
     "execution_count": 19,
     "metadata": {},
     "output_type": "execute_result"
    }
   ],
   "source": [
    "dp.generate_training_classes(config=cluster_config)\n",
    "dp.labels_df.head()"
   ]
  },
  {
   "cell_type": "code",
   "execution_count": 20,
   "metadata": {},
   "outputs": [
    {
     "name": "stdout",
     "output_type": "stream",
     "text": [
      "15\n"
     ]
    }
   ],
   "source": [
    "distinct_clusters = dp.labels_df['cluster'].nunique()\n",
    "print(distinct_clusters)"
   ]
  },
  {
   "cell_type": "code",
   "execution_count": 21,
   "metadata": {},
   "outputs": [
    {
     "data": {
      "image/png": "[encoded data removed]",
      "text/plain": [
       "<Figure size 640x480 with 1 Axes>"
      ]
     },
     "metadata": {},
     "output_type": "display_data"
    }
   ],
   "source": [
    "counts = pd.DataFrame(dp.labels_df['cluster']).value_counts()\n",
    "counts = counts.reset_index()\n",
    "counts.columns = ['cluster', 'count']\n",
    "plt.bar(x=counts['cluster'], height=counts['count'])\n",
    "plt.title('Number of elements per cluster')\n",
    "plt.xlabel('Cluster')\n",
    "plt.ylabel('Number of elements')\n",
    "plt.show()"
   ]
  },
  {
   "cell_type": "code",
   "execution_count": null,
   "metadata": {},
   "outputs": [],
   "source": []
  }
 ],
 "metadata": {
  "kernelspec": {
   "display_name": "Python 3",
   "language": "python",
   "name": "python3"
  },
  "language_info": {
   "codemirror_mode": {
    "name": "ipython",
    "version": 3
   },
   "file_extension": ".py",
   "mimetype": "text/x-python",
   "name": "python",
   "nbconvert_exporter": "python",
   "pygments_lexer": "ipython3",
   "version": "3.12.2"
  }
 },
 "nbformat": 4,
 "nbformat_minor": 2
}
