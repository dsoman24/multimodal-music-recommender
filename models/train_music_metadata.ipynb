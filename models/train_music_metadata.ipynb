{
 "cells": [
  {
   "cell_type": "markdown",
   "metadata": {},
   "source": [
    "# Metadata training\n",
    "\n",
    "Idea: use MLP on metadata to predict labels.\n",
    "\n",
    "First, process labels into one-hot encoded vector."
   ]
  },
  {
   "cell_type": "code",
   "execution_count": 2,
   "metadata": {},
   "outputs": [
    {
     "name": "stdout",
     "output_type": "stream",
     "text": [
      "The autoreload extension is already loaded. To reload it, use:\n",
      "  %reload_ext autoreload\n"
     ]
    }
   ],
   "source": [
    "%load_ext autoreload\n",
    "%autoreload 2\n",
    "from data_provider import DataProvider"
   ]
  },
  {
   "cell_type": "code",
   "execution_count": 16,
   "metadata": {},
   "outputs": [
    {
     "name": "stdout",
     "output_type": "stream",
     "text": [
      "Reading labels...\n",
      "Reading metadata...\n",
      "Reading music_analysis...\n"
     ]
    }
   ],
   "source": [
    "# Initialize data provider class\n",
    "dp = DataProvider(debug=True)"
   ]
  },
  {
   "cell_type": "code",
   "execution_count": 24,
   "metadata": {},
   "outputs": [
    {
     "data": {
      "text/html": [
       "<div>\n",
       "<style scoped>\n",
       "    .dataframe tbody tr th:only-of-type {\n",
       "        vertical-align: middle;\n",
       "    }\n",
       "\n",
       "    .dataframe tbody tr th {\n",
       "        vertical-align: top;\n",
       "    }\n",
       "\n",
       "    .dataframe thead th {\n",
       "        text-align: right;\n",
       "    }\n",
       "</style>\n",
       "<table border=\"1\" class=\"dataframe\">\n",
       "  <thead>\n",
       "    <tr style=\"text-align: right;\">\n",
       "      <th></th>\n",
       "      <th>mbtag</th>\n",
       "      <th>mbtag_embedding</th>\n",
       "      <th>cluster</th>\n",
       "    </tr>\n",
       "    <tr>\n",
       "      <th>song_id</th>\n",
       "      <th></th>\n",
       "      <th></th>\n",
       "      <th></th>\n",
       "    </tr>\n",
       "  </thead>\n",
       "  <tbody>\n",
       "    <tr>\n",
       "      <th>SOVVDCO12AB0187AF7</th>\n",
       "      <td>[fusion, jazz fusion, classic pop and rock]</td>\n",
       "      <td>[-0.09305664, 0.09363344, -0.009416654, -0.023...</td>\n",
       "      <td>19</td>\n",
       "    </tr>\n",
       "    <tr>\n",
       "      <th>SOKSZVC12A8C142004</th>\n",
       "      <td>[finnish]</td>\n",
       "      <td>[-0.14222464, 0.12728243, -0.009207663, -0.014...</td>\n",
       "      <td>8</td>\n",
       "    </tr>\n",
       "    <tr>\n",
       "      <th>SOZQSGL12AF72A9145</th>\n",
       "      <td>[punk, california, san francisco, rock and ind...</td>\n",
       "      <td>[-0.11788806, 0.10963588, 0.014863665, -0.0156...</td>\n",
       "      <td>13</td>\n",
       "    </tr>\n",
       "    <tr>\n",
       "      <th>SOBHQIJ12A6D4FC7D3</th>\n",
       "      <td>[old school hip-hop, hip-hop, american, rock a...</td>\n",
       "      <td>[-0.10079861, 0.10108583, 0.0059531024, 0.0059...</td>\n",
       "      <td>0</td>\n",
       "    </tr>\n",
       "    <tr>\n",
       "      <th>SODENZR12AAF3B13B9</th>\n",
       "      <td>[folk]</td>\n",
       "      <td>[-0.108329095, 0.09944695, -0.012324973, -0.00...</td>\n",
       "      <td>0</td>\n",
       "    </tr>\n",
       "  </tbody>\n",
       "</table>\n",
       "</div>"
      ],
      "text/plain": [
       "                                                                mbtag  \\\n",
       "song_id                                                                 \n",
       "SOVVDCO12AB0187AF7        [fusion, jazz fusion, classic pop and rock]   \n",
       "SOKSZVC12A8C142004                                          [finnish]   \n",
       "SOZQSGL12AF72A9145  [punk, california, san francisco, rock and ind...   \n",
       "SOBHQIJ12A6D4FC7D3  [old school hip-hop, hip-hop, american, rock a...   \n",
       "SODENZR12AAF3B13B9                                             [folk]   \n",
       "\n",
       "                                                      mbtag_embedding  cluster  \n",
       "song_id                                                                         \n",
       "SOVVDCO12AB0187AF7  [-0.09305664, 0.09363344, -0.009416654, -0.023...       19  \n",
       "SOKSZVC12A8C142004  [-0.14222464, 0.12728243, -0.009207663, -0.014...        8  \n",
       "SOZQSGL12AF72A9145  [-0.11788806, 0.10963588, 0.014863665, -0.0156...       13  \n",
       "SOBHQIJ12A6D4FC7D3  [-0.10079861, 0.10108583, 0.0059531024, 0.0059...        0  \n",
       "SODENZR12AAF3B13B9  [-0.108329095, 0.09944695, -0.012324973, -0.00...        0  "
      ]
     },
     "execution_count": 24,
     "metadata": {},
     "output_type": "execute_result"
    }
   ],
   "source": [
    "dp.generate_training_classes(num_classes=20)\n",
    "dp.labels_df.head()"
   ]
  },
  {
   "cell_type": "code",
   "execution_count": null,
   "metadata": {},
   "outputs": [],
   "source": []
  }
 ],
 "metadata": {
  "kernelspec": {
   "display_name": "Python 3",
   "language": "python",
   "name": "python3"
  },
  "language_info": {
   "codemirror_mode": {
    "name": "ipython",
    "version": 3
   },
   "file_extension": ".py",
   "mimetype": "text/x-python",
   "name": "python",
   "nbconvert_exporter": "python",
   "pygments_lexer": "ipython3",
   "version": "3.12.2"
  }
 },
 "nbformat": 4,
 "nbformat_minor": 2
}
